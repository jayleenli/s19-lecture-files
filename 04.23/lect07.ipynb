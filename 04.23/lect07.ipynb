{
 "cells": [
  {
   "cell_type": "markdown",
   "metadata": {},
   "source": [
    "*We'll start off by importing everything we need*"
   ]
  },
  {
   "cell_type": "code",
   "execution_count": null,
   "metadata": {},
   "outputs": [],
   "source": [
    "import numpy as np\n",
    "import numpy.linalg as npla"
   ]
  },
  {
   "cell_type": "markdown",
   "metadata": {},
   "source": [
    "*Let's set up an example with a 2x2 Ax = b system*"
   ]
  },
  {
   "cell_type": "code",
   "execution_count": null,
   "metadata": {},
   "outputs": [],
   "source": [
    "A = np.array([[3,1],[-2,4]])\n",
    "b = np.array([9,8])\n",
    "print(\"A:\\n\", A)\n",
    "print(\"\\nb:\\n\", b)\n",
    "x = npla.solve(A, b)\n",
    "print(\"\\nx:\\n\", x)"
   ]
  },
  {
   "cell_type": "markdown",
   "metadata": {},
   "source": [
    "# Jacobi Convergence Method"
   ]
  },
  {
   "cell_type": "code",
   "execution_count": null,
   "metadata": {},
   "outputs": [],
   "source": [
    "# Initial setup and run with a 2x2 matrix\n",
    "x = np.zeros(2)\n",
    "x = np.array([(9 - x[1])/3, (8 + 2*x[0])/4])\n",
    "print('x = ', x)\n",
    "relres = npla.norm(b - A@x)/npla.norm(b)\n",
    "print('relres = ', relres)"
   ]
  },
  {
   "cell_type": "code",
   "execution_count": null,
   "metadata": {},
   "outputs": [],
   "source": [
    "# Repeat over and over and see if the iterations converge...\n",
    "c = 1\n",
    "ans = ''\n",
    "while (ans  != 'q'):\n",
    "    x = np.array([(9 - x[1])/3, (8 + 2*x[0])/4])\n",
    "    print('x = ', x)\n",
    "    relres = npla.norm(b - A@x)/npla.norm(b)\n",
    "    print('relres = ', relres)\n",
    "    \n",
    "    print(\"Iteration #:\", c)\n",
    "    ans = input('\\t\\t\\t\\tPress q to quit: ')\n",
    "    c += 1"
   ]
  },
  {
   "cell_type": "code",
   "execution_count": null,
   "metadata": {
    "scrolled": true
   },
   "outputs": [],
   "source": [
    "# A second example with a 3x3 matrix:\n",
    "A = np.array([[4, -1, -1], [-2, 6, 1], [-1, 1, 7]])\n",
    "b = np.array([3, 9, -6])\n",
    "print(\"A:\\n\", A)\n",
    "print(\"\\nb:\\n\", b)\n",
    "x = npla.solve(A, b)\n",
    "print(\"\\nx:\\n\", x)"
   ]
  },
  {
   "cell_type": "code",
   "execution_count": null,
   "metadata": {},
   "outputs": [],
   "source": [
    "# This time, we'll solve it in a matrix approach:\n",
    "d = A.diagonal()\n",
    "D = np.diag(d)\n",
    "C = A - D\n",
    "\n",
    "# Test to see if the iterative method will converge:\n",
    "m = max(npla.eig(npla.inv(D) @ C)[0])\n",
    "if m < 1:\n",
    "    print(\"Spectral radius < 1. This will converge.\")\n",
    "else:\n",
    "    print(\"This will NOT converge.\")"
   ]
  },
  {
   "cell_type": "code",
   "execution_count": null,
   "metadata": {},
   "outputs": [],
   "source": [
    "# Initial set-up:\n",
    "x = np.zeros(3)\n",
    "\n",
    "x = (b - C@x)/d\n",
    "print('x = ', x)\n",
    "relres = npla.norm(b - A@x)/npla.norm(b)\n",
    "print('relres = ', relres)"
   ]
  },
  {
   "cell_type": "code",
   "execution_count": null,
   "metadata": {},
   "outputs": [],
   "source": [
    "# You can run this as many times as you like as see if it converges:\n",
    "x = (b - C@x)/d\n",
    "print('x = ', x)\n",
    "relres = npla.norm(b - A@x)/npla.norm(b)\n",
    "print('relres = ', relres)"
   ]
  },
  {
   "cell_type": "code",
   "execution_count": null,
   "metadata": {},
   "outputs": [],
   "source": [
    "# A third example with a matrix that will NOT converge:\n",
    "A = np.array([[1,2],[3,4]])\n",
    "b = np.array([3,7])\n",
    "print(\"A:\\n\", A)\n",
    "print(\"\\nb:\\n\", b)\n",
    "x = npla.solve(A, b)\n",
    "print(\"\\nx:\\n\", x)"
   ]
  },
  {
   "cell_type": "code",
   "execution_count": null,
   "metadata": {},
   "outputs": [],
   "source": [
    "d = A.diagonal()\n",
    "D = np.diag(d)\n",
    "C = A - D\n",
    "m = max(npla.eig(npla.inv(D) @ C)[0])\n",
    "if m < 1:\n",
    "    print(\"Spectral radius < 1. This will converge.\")\n",
    "else:\n",
    "    print(\"This will NOT converge.\")\n",
    "    \n",
    "x = np.zeros(2)\n",
    "\n",
    "x = (b - C@x)/d\n",
    "print('x = ', x)\n",
    "relres = npla.norm(b - A@x)/npla.norm(b)\n",
    "print('relres = ', relres)"
   ]
  },
  {
   "cell_type": "code",
   "execution_count": null,
   "metadata": {},
   "outputs": [],
   "source": [
    "x = (b - C@x)/d\n",
    "print('x = ', x)\n",
    "relres = npla.norm(b - A@x)/npla.norm(b)\n",
    "print('relres = ', relres)"
   ]
  }
 ],
 "metadata": {
  "kernelspec": {
   "display_name": "Python 3",
   "language": "python",
   "name": "python3"
  },
  "language_info": {
   "codemirror_mode": {
    "name": "ipython",
    "version": 3
   },
   "file_extension": ".py",
   "mimetype": "text/x-python",
   "name": "python",
   "nbconvert_exporter": "python",
   "pygments_lexer": "ipython3",
   "version": "3.7.2"
  }
 },
 "nbformat": 4,
 "nbformat_minor": 2
}
