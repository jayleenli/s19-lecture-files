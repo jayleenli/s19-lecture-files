{
 "cells": [
  {
   "cell_type": "markdown",
   "metadata": {},
   "source": [
    "# Imports and defs for lecture"
   ]
  },
  {
   "cell_type": "code",
   "execution_count": 2,
   "metadata": {},
   "outputs": [],
   "source": [
    "# These are the standard imports for CS 111. \n",
    "# This list may change as the quarter goes on.\n",
    "\n",
    "import os\n",
    "import math\n",
    "import time\n",
    "import struct\n",
    "import json\n",
    "import pandas as pd\n",
    "import networkx as nx\n",
    "import numpy as np\n",
    "import numpy.linalg as npla\n",
    "import scipy\n",
    "import scipy.sparse.linalg as spla\n",
    "from scipy import sparse\n",
    "from scipy import linalg\n",
    "import matplotlib.pyplot as plt\n",
    "from matplotlib import cm\n",
    "from mpl_toolkits.mplot3d import axes3d\n",
    "%matplotlib tk\n"
   ]
  },
  {
   "cell_type": "markdown",
   "metadata": {},
   "source": [
    "# Lecture starts here"
   ]
  },
  {
   "cell_type": "code",
   "execution_count": 3,
   "metadata": {},
   "outputs": [
    {
     "data": {
      "text/plain": [
       "array([[0., 0., 1., 1.],\n",
       "       [1., 0., 0., 0.],\n",
       "       [1., 1., 0., 1.],\n",
       "       [1., 1., 0., 0.]])"
      ]
     },
     "execution_count": 3,
     "metadata": {},
     "output_type": "execute_result"
    }
   ],
   "source": [
    "# Load example E matrix per reading/lecture - all ready saved for you in the .npy file!\n",
    "E = np.load('PageRankEG1.npy')\n",
    "E"
   ]
  },
  {
   "cell_type": "code",
   "execution_count": 4,
   "metadata": {},
   "outputs": [
    {
     "data": {
      "text/plain": [
       "array([3., 2., 1., 2.])"
      ]
     },
     "execution_count": 4,
     "metadata": {},
     "output_type": "execute_result"
    }
   ],
   "source": [
    "# Calculate the outdegree for each node: col sum\n",
    "# Use np.sum() for 0th dimension (the row in this square matrix)\n",
    "outdegree = np.sum(E,0)\n",
    "outdegree"
   ]
  },
  {
   "cell_type": "code",
   "execution_count": 5,
   "metadata": {},
   "outputs": [
    {
     "data": {
      "text/plain": [
       "array([2., 1., 3., 2.])"
      ]
     },
     "execution_count": 5,
     "metadata": {},
     "output_type": "execute_result"
    }
   ],
   "source": [
    "# Calculate the indegree for each node: row sum\n",
    "# Use np.sum() for 1st dimension (the column in this square matrix)\n",
    "indegree = np.sum(E,1)\n",
    "indegree"
   ]
  },
  {
   "cell_type": "code",
   "execution_count": 6,
   "metadata": {},
   "outputs": [
    {
     "data": {
      "text/plain": [
       "4"
      ]
     },
     "execution_count": 6,
     "metadata": {},
     "output_type": "execute_result"
    }
   ],
   "source": [
    "# Recall: .shape returns the matrix dimensions\n",
    "n = E.shape[0]\n",
    "n"
   ]
  },
  {
   "cell_type": "code",
   "execution_count": 7,
   "metadata": {},
   "outputs": [],
   "source": [
    "# Calculate the eigenvalues vector (d) and the eigenvectors (V)\n",
    "d, V = linalg.eig(E)"
   ]
  },
  {
   "cell_type": "code",
   "execution_count": 8,
   "metadata": {},
   "outputs": [
    {
     "data": {
      "text/plain": [
       "(array([ 1.94978752+0.j        , -0.74540166+0.74952824j,\n",
       "        -0.74540166-0.74952824j, -0.45898421+0.j        ]),\n",
       " array([[ 0.55529338+0.j        , -0.61105409+0.j        ,\n",
       "         -0.61105409-0.j        ,  0.21563856+0.j        ],\n",
       "        [ 0.28479687+0.j        ,  0.40761959+0.40987619j,\n",
       "          0.40761959-0.40987619j, -0.46981694+0.j        ],\n",
       "        [ 0.65184165+0.j        ,  0.04484216-0.32104126j,\n",
       "          0.04484216+0.32104126j, -0.65275928+0.j        ],\n",
       "        [ 0.43086246+0.j        ,  0.41063857-0.13696104j,\n",
       "          0.41063857+0.13696104j,  0.55378459+0.j        ]]))"
      ]
     },
     "execution_count": 8,
     "metadata": {},
     "output_type": "execute_result"
    }
   ],
   "source": [
    "d, V"
   ]
  },
  {
   "cell_type": "code",
   "execution_count": 9,
   "metadata": {},
   "outputs": [
    {
     "name": "stdout",
     "output_type": "stream",
     "text": [
      "[[0. 0. 1. 1.]\n",
      " [1. 0. 0. 0.]\n",
      " [1. 1. 0. 1.]\n",
      " [1. 1. 0. 0.]]\n",
      "\n",
      "[3. 2. 1. 2.]\n"
     ]
    }
   ],
   "source": [
    "# Recall:\n",
    "print(E)\n",
    "print()\n",
    "print(outdegree)"
   ]
  },
  {
   "cell_type": "code",
   "execution_count": 10,
   "metadata": {},
   "outputs": [
    {
     "data": {
      "text/plain": [
       "array([[0.        , 0.        , 1.        , 0.5       ],\n",
       "       [0.33333333, 0.        , 0.        , 0.        ],\n",
       "       [0.33333333, 0.5       , 0.        , 0.5       ],\n",
       "       [0.33333333, 0.5       , 0.        , 0.        ]])"
      ]
     },
     "execution_count": 10,
     "metadata": {},
     "output_type": "execute_result"
    }
   ],
   "source": [
    "# Calculate the Link Matrix A from E:\n",
    "A = E / outdegree\n",
    "A"
   ]
  },
  {
   "cell_type": "markdown",
   "metadata": {},
   "source": [
    "### *We now need to find the eigenvector for eigenvalue = 1*"
   ]
  },
  {
   "cell_type": "code",
   "execution_count": 19,
   "metadata": {},
   "outputs": [
    {
     "name": "stdout",
     "output_type": "stream",
     "text": [
      "[[0.         0.         1.         0.5       ]\n",
      " [0.33333333 0.         0.         0.        ]\n",
      " [0.33333333 0.5        0.         0.5       ]\n",
      " [0.33333333 0.5        0.         0.        ]]\n"
     ]
    }
   ],
   "source": [
    "A = np.array([[0,0,1,0.5],[1/3,0,0,0],[1/3,0.5,0,0.5],[1/3,0.5,0,0]])\n",
    "print(A)\n"
   ]
  },
  {
   "cell_type": "code",
   "execution_count": 8,
   "metadata": {},
   "outputs": [
    {
     "name": "stdout",
     "output_type": "stream",
     "text": [
      "[ 1.        +0.j         -0.36062333+0.41097555j -0.36062333-0.41097555j\n",
      " -0.27875333+0.j        ]\n",
      "\n",
      "[[ 0.72101012+0.j          0.75521571+0.j          0.75521571-0.j\n",
      "   0.50648562+0.j        ]\n",
      " [ 0.24033671+0.j         -0.3036721 -0.34607247j -0.3036721 +0.34607247j\n",
      "  -0.60565568+0.j        ]\n",
      " [ 0.54075759+0.j         -0.09315321+0.2746779j  -0.09315321-0.2746779j\n",
      "  -0.38153917+0.j        ]\n",
      " [ 0.36050506+0.j         -0.3583904 +0.07139457j -0.3583904 -0.07139457j\n",
      "   0.48070923+0.j        ]]\n"
     ]
    }
   ],
   "source": [
    "# Start by finding the eigenVs of A:\n",
    "d, V = linalg.eig(A)\n",
    "print(d)\n",
    "print()\n",
    "print(V)"
   ]
  },
  {
   "cell_type": "code",
   "execution_count": 13,
   "metadata": {},
   "outputs": [
    {
     "name": "stdout",
     "output_type": "stream",
     "text": [
      "[0.72101012 0.24033671 0.54075759 0.36050506]\n",
      "1.0\n",
      "[0.72101012 0.24033671 0.54075759 0.36050506]\n"
     ]
    }
   ],
   "source": [
    "# Then, let's look at the Real values of V (of eigenvector 0) - which matches the eigenvalue = 1\n",
    "# This is a clean-up effort as the complex numbers here are actually real (imaginary parts are ~0)\n",
    "v = V[:,0].real\n",
    "print(v)\n",
    "print(npla.norm(v))\n",
    "print(v/npla.norm(v))"
   ]
  },
  {
   "cell_type": "code",
   "execution_count": 28,
   "metadata": {},
   "outputs": [
    {
     "name": "stdout",
     "output_type": "stream",
     "text": [
      "[[-1.          0.          1.          0.5       ]\n",
      " [ 0.33333333 -1.          0.          0.        ]\n",
      " [ 0.33333333  0.5        -1.          0.5       ]\n",
      " [ 0.33333333  0.5         0.         -1.        ]]\n",
      "[[0 0 0 0]]\n",
      "[[-0.]\n",
      " [-0.]\n",
      " [-0.]\n",
      " [-0.]]\n"
     ]
    }
   ],
   "source": [
    "\n",
    "B = A - np.eye(4)\n",
    "print(B)\n",
    "b = np.array([[0,0,0,0]])\n",
    "print(b)\n",
    "print(npla.solve(B,b.T))\n"
   ]
  },
  {
   "cell_type": "code",
   "execution_count": 18,
   "metadata": {
    "collapsed": true
   },
   "outputs": [
    {
     "name": "stdout",
     "output_type": "stream",
     "text": [
      "[[0.         0.5        0.5        0.         0.25      ]\n",
      " [0.33333333 0.         0.         0.         0.25      ]\n",
      " [0.33333333 0.         0.         0.         0.25      ]\n",
      " [0.         0.         0.         0.         0.25      ]\n",
      " [0.33333333 0.5        0.5        1.         0.        ]]\n",
      "[ 1.00000000e+00+0.j -7.28713554e-01+0.j -5.00000000e-01+0.j\n",
      "  2.28713554e-01+0.j -2.03548374e-17+0.j]\n",
      "\n",
      "[[ 5.14495755e-01  2.60425827e-01 -7.50000000e-01 -5.54236762e-01\n",
      "  -2.33952125e-17]\n",
      " [ 3.42997170e-01 -3.79551660e-01  2.50000000e-01 -2.53522919e-01\n",
      "  -7.07106781e-01]\n",
      " [ 3.42997170e-01 -3.79551660e-01  2.50000000e-01 -2.53522919e-01\n",
      "   7.07106781e-01]\n",
      " [ 1.71498585e-01 -2.60425827e-01 -2.50000000e-01  5.54236762e-01\n",
      "   3.64931686e-17]\n",
      " [ 6.85994341e-01  7.59103321e-01  5.00000000e-01  5.07045838e-01\n",
      "   8.16370951e-17]]\n",
      "[0.51449576 0.34299717 0.34299717 0.17149859 0.68599434]\n",
      "1.0\n",
      "[0.51449576 0.34299717 0.34299717 0.17149859 0.68599434]\n"
     ]
    }
   ],
   "source": [
    "A = np.array([[0,1/2,1/2,0,1/4],[1/3,0,0,0,1/4],[1/3,0,0,0,1/4],[0,0,0,0,1/4],[1/3,1/2,1/2,1,0]])\n",
    "print(A)\n",
    "# Start by finding the eigenVs of A:\n",
    "d, V = linalg.eig(A)\n",
    "print(d)\n",
    "print()\n",
    "print(V)\n",
    "# Then, let's look at the Real values of V (of eigenvector 0) - which matches the eigenvalue = 1\n",
    "# This is a clean-up effort as the complex numbers here are actually real (imaginary parts are ~0)\n",
    "v = V[:,0].real\n",
    "print(v)\n",
    "print(npla.norm(v))\n",
    "print(v/npla.norm(v))"
   ]
  },
  {
   "cell_type": "code",
   "execution_count": 6,
   "metadata": {},
   "outputs": [
    {
     "name": "stdout",
     "output_type": "stream",
     "text": [
      "The order of our eigenvector's INDICES sorted ascending:    [1 3 2 0]\n",
      "The order of our eigenvector's INDICES sorted descsending:  [0 2 3 1]\n"
     ]
    }
   ],
   "source": [
    "eig_perm = np.argsort(v)\n",
    "print(\"The order of our eigenvector's INDICES sorted ascending:   \", eig_perm)\n",
    "eig_perm = np.argsort(v)[::-1]\n",
    "print(\"The order of our eigenvector's INDICES sorted descsending: \", eig_perm)"
   ]
  },
  {
   "cell_type": "markdown",
   "metadata": {},
   "source": [
    "### *Sanity-checks*"
   ]
  },
  {
   "cell_type": "code",
   "execution_count": null,
   "metadata": {},
   "outputs": [],
   "source": [
    "# Double-check we got the eigenvector v right:\n",
    "# A v should be equal to eigenvalue * v = v (since eigenvalue = 1)\n",
    "print(A @ v)"
   ]
  },
  {
   "cell_type": "code",
   "execution_count": null,
   "metadata": {},
   "outputs": [],
   "source": [
    "# Double-check we did the Link Matrix correctly:\n",
    "# It's supposed to be a column stochastic matrix, i.e. columns must add up to 1\n",
    "print(np.sum(A,0))"
   ]
  },
  {
   "cell_type": "markdown",
   "metadata": {},
   "source": [
    "### *Let's create a situation with a \"dangling node\"*"
   ]
  },
  {
   "cell_type": "code",
   "execution_count": null,
   "metadata": {},
   "outputs": [],
   "source": [
    "E"
   ]
  },
  {
   "cell_type": "code",
   "execution_count": null,
   "metadata": {},
   "outputs": [],
   "source": [
    "# Make node/page \"1\" lose connection to page \"3\"\n",
    "E[0,2] = 0\n",
    "print(E)"
   ]
  },
  {
   "cell_type": "code",
   "execution_count": null,
   "metadata": {},
   "outputs": [],
   "source": [
    "# When we try to calculate the Link Matrix...\n",
    "A = E / np.sum(E,0)\n",
    "print(A)"
   ]
  },
  {
   "cell_type": "code",
   "execution_count": null,
   "metadata": {},
   "outputs": [],
   "source": [
    "# When we try further to find the EVs of A...\n",
    "print(linalg.eig(A))"
   ]
  }
 ],
 "metadata": {
  "kernelspec": {
   "display_name": "Python 3",
   "language": "python",
   "name": "python3"
  },
  "language_info": {
   "codemirror_mode": {
    "name": "ipython",
    "version": 3
   },
   "file_extension": ".py",
   "mimetype": "text/x-python",
   "name": "python",
   "nbconvert_exporter": "python",
   "pygments_lexer": "ipython3",
   "version": "3.7.1"
  }
 },
 "nbformat": 4,
 "nbformat_minor": 2
}
