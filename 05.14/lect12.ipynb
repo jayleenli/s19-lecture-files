{
 "cells": [
  {
   "cell_type": "markdown",
   "metadata": {},
   "source": [
    "# Imports and defs for lecture"
   ]
  },
  {
   "cell_type": "code",
   "execution_count": null,
   "metadata": {},
   "outputs": [],
   "source": [
    "# These are the standard imports for CS 111. \n",
    "# This list may change as the quarter goes on.\n",
    "\n",
    "import os\n",
    "import math\n",
    "import time\n",
    "import struct\n",
    "import json\n",
    "import pandas as pd\n",
    "import networkx as nx\n",
    "import numpy as np\n",
    "import numpy.linalg as npla\n",
    "import scipy\n",
    "import scipy.sparse.linalg as spla\n",
    "from scipy import sparse\n",
    "from scipy import linalg\n",
    "import matplotlib.pyplot as plt\n",
    "from matplotlib import cm\n",
    "from mpl_toolkits.mplot3d import axes3d\n",
    "%matplotlib tk\n"
   ]
  },
  {
   "cell_type": "markdown",
   "metadata": {},
   "source": [
    "# Lecture starts here"
   ]
  },
  {
   "cell_type": "code",
   "execution_count": null,
   "metadata": {},
   "outputs": [],
   "source": [
    "# Load example E matrix per reading/lecture - all ready saved for you in the .npy file!\n",
    "E = np.load('PageRankEG1.npy')\n",
    "E"
   ]
  },
  {
   "cell_type": "code",
   "execution_count": null,
   "metadata": {},
   "outputs": [],
   "source": [
    "# Calculate the outdegree for each node: col sum\n",
    "# Use np.sum() for 0th dimension (the row in this square matrix)\n",
    "outdegree = np.sum(E,0)\n",
    "outdegree"
   ]
  },
  {
   "cell_type": "code",
   "execution_count": null,
   "metadata": {},
   "outputs": [],
   "source": [
    "# Calculate the indegree for each node: row sum\n",
    "# Use np.sum() for 1st dimension (the column in this square matrix)\n",
    "indegree = np.sum(E,1)\n",
    "indegree"
   ]
  },
  {
   "cell_type": "code",
   "execution_count": null,
   "metadata": {},
   "outputs": [],
   "source": [
    "# Recall: .shape returns the matrix dimensions\n",
    "n = E.shape[0]\n",
    "n"
   ]
  },
  {
   "cell_type": "code",
   "execution_count": null,
   "metadata": {},
   "outputs": [],
   "source": [
    "# Calculate the eigenvalues vector (d) and the eigenvectors (V)\n",
    "d, V = linalg.eig(E)"
   ]
  },
  {
   "cell_type": "code",
   "execution_count": null,
   "metadata": {},
   "outputs": [],
   "source": [
    "d, V"
   ]
  },
  {
   "cell_type": "code",
   "execution_count": null,
   "metadata": {},
   "outputs": [],
   "source": [
    "# Recall:\n",
    "print(E)\n",
    "print()\n",
    "print(outdegree)"
   ]
  },
  {
   "cell_type": "code",
   "execution_count": null,
   "metadata": {},
   "outputs": [],
   "source": [
    "# Calculate the Link Matrix A from E:\n",
    "A = E / outdegree\n",
    "A"
   ]
  },
  {
   "cell_type": "markdown",
   "metadata": {},
   "source": [
    "### *We now need to find the eigenvector for eigenvalue = 1*"
   ]
  },
  {
   "cell_type": "code",
   "execution_count": null,
   "metadata": {},
   "outputs": [],
   "source": [
    "# Start by finding the eigenVs of A:\n",
    "d, V = linalg.eig(A)\n",
    "print(d)\n",
    "print()\n",
    "print(V)"
   ]
  },
  {
   "cell_type": "code",
   "execution_count": null,
   "metadata": {},
   "outputs": [],
   "source": [
    "# Then, let's look at the Real values of V (of eigenvector 0) - which matches the eigenvalue = 1\n",
    "# This is a clean-up effort as the complex numbers here are actually real (imaginary parts are ~0)\n",
    "v = V[:,0].real\n",
    "v"
   ]
  },
  {
   "cell_type": "code",
   "execution_count": null,
   "metadata": {},
   "outputs": [],
   "source": [
    "eig_perm = np.argsort(v)\n",
    "print(\"The order of our eigenvector's INDICES sorted ascending:   \", eig_perm)\n",
    "eig_perm = np.argsort(v)[::-1]\n",
    "print(\"The order of our eigenvector's INDICES sorted descsending: \", eig_perm)"
   ]
  },
  {
   "cell_type": "markdown",
   "metadata": {},
   "source": [
    "### *Sanity-checks*"
   ]
  },
  {
   "cell_type": "code",
   "execution_count": null,
   "metadata": {},
   "outputs": [],
   "source": [
    "# Double-check we got the eigenvector v right:\n",
    "# A v should be equal to eigenvalue * v = v (since eigenvalue = 1)\n",
    "print(A @ v)"
   ]
  },
  {
   "cell_type": "code",
   "execution_count": null,
   "metadata": {},
   "outputs": [],
   "source": [
    "# Double-check we did the Link Matrix correctly:\n",
    "# It's supposed to be a column stochastic matrix, i.e. columns must add up to 1\n",
    "print(np.sum(A,0))"
   ]
  },
  {
   "cell_type": "markdown",
   "metadata": {},
   "source": [
    "### *Let's create a situation with a \"dangling node\"*"
   ]
  },
  {
   "cell_type": "code",
   "execution_count": null,
   "metadata": {},
   "outputs": [],
   "source": [
    "E"
   ]
  },
  {
   "cell_type": "code",
   "execution_count": null,
   "metadata": {},
   "outputs": [],
   "source": [
    "# Make node/page \"1\" lose connection to page \"3\"\n",
    "E[0,2] = 0\n",
    "print(E)"
   ]
  },
  {
   "cell_type": "code",
   "execution_count": null,
   "metadata": {},
   "outputs": [],
   "source": [
    "# When we try to calculate the Link Matrix...\n",
    "A = E / np.sum(E,0)\n",
    "print(A)"
   ]
  },
  {
   "cell_type": "code",
   "execution_count": null,
   "metadata": {},
   "outputs": [],
   "source": [
    "# When we try further to find the EVs of A...\n",
    "print(linalg.eig(A))"
   ]
  }
 ],
 "metadata": {
  "kernelspec": {
   "display_name": "Python 3",
   "language": "python",
   "name": "python3"
  },
  "language_info": {
   "codemirror_mode": {
    "name": "ipython",
    "version": 3
   },
   "file_extension": ".py",
   "mimetype": "text/x-python",
   "name": "python",
   "nbconvert_exporter": "python",
   "pygments_lexer": "ipython3",
   "version": "3.7.2"
  }
 },
 "nbformat": 4,
 "nbformat_minor": 2
}
