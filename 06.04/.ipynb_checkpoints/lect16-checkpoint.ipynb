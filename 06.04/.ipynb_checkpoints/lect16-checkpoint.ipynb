{
 "cells": [
  {
   "cell_type": "markdown",
   "metadata": {},
   "source": [
    "# Imports and defs for lecture"
   ]
  },
  {
   "cell_type": "code",
   "execution_count": 1,
   "metadata": {},
   "outputs": [],
   "source": [
    "# These are the standard imports for CS 111. \n",
    "# This list may change as the quarter goes on.\n",
    "\n",
    "import os\n",
    "import math\n",
    "import time\n",
    "import struct\n",
    "import json\n",
    "import pandas as pd\n",
    "import networkx as nx\n",
    "import numpy as np\n",
    "import numpy.linalg as npla\n",
    "import scipy\n",
    "import scipy.sparse.linalg as spla\n",
    "from scipy import sparse\n",
    "from scipy import linalg\n",
    "from scipy import integrate\n",
    "import matplotlib.pyplot as plt\n",
    "from matplotlib import cm\n",
    "from mpl_toolkits.mplot3d import axes3d\n",
    "%matplotlib inline"
   ]
  },
  {
   "cell_type": "markdown",
   "metadata": {},
   "source": [
    "# Lecture starts here"
   ]
  },
  {
   "cell_type": "markdown",
   "metadata": {},
   "source": [
    "### Flame Example"
   ]
  },
  {
   "cell_type": "code",
   "execution_count": 2,
   "metadata": {},
   "outputs": [
    {
     "data": {
      "text/plain": [
       "Text(0.5, 1.0, 'flame ODE: ydot = y**2 - y**3')"
      ]
     },
     "execution_count": 2,
     "metadata": {},
     "output_type": "execute_result"
    },
    {
     "data": {
      "image/png": "[encoded data removed]",
      "text/plain": [
       "<Figure size 432x288 with 1 Axes>"
      ]
     },
     "metadata": {
      "needs_background": "light"
     },
     "output_type": "display_data"
    }
   ],
   "source": [
    "# demo of flame example with rk23\n",
    "def flamef(t, y):\n",
    "    \"\"\"ODE describing the radius of a flame\n",
    "    Input:\n",
    "      t is a scalar time\n",
    "      y is a vector of variables\n",
    "    Output:\n",
    "      ydot is the vector dy/dt\n",
    "\n",
    "    The ODE describes the growth of a flame of radius y,\n",
    "    in terms of its oxygen balance. The flame takes in\n",
    "    oxygen at a rate proportional to its surface area,\n",
    "    and burns oxygen at a rate proportional to its volume:\n",
    "      dy/dt = y**2 - y**3\n",
    "    The flame balances at radius 1 (in these units), \n",
    "    so the exact solution increases monotonically from\n",
    "    an initial radius delta < 1 to the asymptotic value.\n",
    "    \"\"\"\n",
    "    ydot = y**2 - y**3\n",
    "    return ydot\n",
    "\n",
    "# Try 3 differernt deltas: \n",
    "#delta = .01\n",
    "#delta = .001\n",
    "delta = .00001\n",
    "\n",
    "# dec\n",
    "\n",
    "tspan = (0, 2/delta)\n",
    "yinit = [delta]\n",
    "\n",
    "sol = integrate.solve_ivp(fun = flamef, t_span = tspan, y0 = yinit, method = 'RK23')\n",
    "\n",
    "%matplotlib inline\n",
    "plt.plot(sol.t, sol.y[0], '.-', label='ode solution')\n",
    "plt.xlabel('t')\n",
    "plt.ylabel('y')\n",
    "plt.title('flame ODE: ydot = y**2 - y**3')"
   ]
  },
  {
   "cell_type": "code",
   "execution_count": null,
   "metadata": {},
   "outputs": [],
   "source": [
    "# zoom in on flame example with rk23\n",
    "\n",
    "#delta = .001\n",
    "#tspan = (0, 2/delta)\n",
    "#yinit = [delta]\n",
    "\n",
    "#sol = integrate.solve_ivp(fun = flamef, t_span = tspan, y0 = yinit, method = 'RK23')\n",
    "\n",
    "%matplotlib inline\n",
    "plt.figure()\n",
    "plt.plot(sol.t, sol.y[0], '.-', label='ode solution')\n",
    "plt.xlabel('t')\n",
    "plt.ylabel('y')\n",
    "plt.title('flame: ydot = y**2 - y**3,     %d steps' % len(sol.t))\n",
    "\n",
    "plt.figure()\n",
    "plt.title('zoom on initial growth')\n",
    "plt.plot(sol.t, sol.y[0], '.-', label='ode solution')\n",
    "plt.xlabel('t')\n",
    "plt.ylabel('y')\n",
    "plt.gca().set_ylim([0, .2])\n",
    "# First one is for delta = 0.01\n",
    "# Second one is for delta = .001\n",
    "# Third one is for delta = 0.00001\n",
    "#plt.gca().set_xlim([85,102])\n",
    "#plt.gca().set_xlim([850,1020])\n",
    "plt.gca().set_xlim([85000,102000])\n",
    "\n",
    "plt.figure()\n",
    "plt.title('zoom on final stage')\n",
    "plt.plot(sol.t, sol.y[0], '.-', label='ode solution')\n",
    "plt.xlabel('t')\n",
    "plt.ylabel('y')\n",
    "plt.gca().set_ylim([0.99, 1.01])\n",
    "# First one is for delta = 0.01\n",
    "# Second one is for delta = .001\n",
    "# Third one is for delta = 0.00001\n",
    "#plt.gca().set_xlim([100,150])\n",
    "#plt.gca().set_xlim([1000,1200])\n",
    "plt.gca().set_xlim([100000,120000])"
   ]
  },
  {
   "cell_type": "markdown",
   "metadata": {},
   "source": [
    "### Steepest-Descent Hiker Example"
   ]
  },
  {
   "cell_type": "code",
   "execution_count": null,
   "metadata": {},
   "outputs": [],
   "source": [
    "# demo of steepest-descent hiker with rk23\n",
    "\n",
    "def valleyf(t, y):\n",
    "    \"\"\"ODE describing the path home in a valley in the fog\n",
    "    Input:\n",
    "      t is a scalar time\n",
    "      y is a vector of variables\n",
    "    Output:\n",
    "      ydot is the vector dy/dt\n",
    "      \n",
    "    You are somewhere in a long valley, whose altitude at\n",
    "    position (y0, y1) is a(y0, y1) =  (y0/1000)**2 + y1**2. \n",
    "\n",
    "    There is a town at the bottom of the valley, at (0,0).\n",
    "\n",
    "    To get to town, you want to walk downhill, \n",
    "    which is in the direction of the negative gradient, \n",
    "\n",
    "      - [da/dy0 , da/dy1]  =  - [y0/500 , 2*y1].\n",
    "\n",
    "    You want to walk at constant speed, \n",
    "    so you scale ydot to have length 1.\n",
    "    \n",
    "    The differential equation is dy/dt = valleyf(t, y).\n",
    "    \"\"\"\n",
    "\n",
    "    gradient = np.array([y[0]/500, 2*y[1]])\n",
    "    ydot = - gradient / npla.norm(gradient)\n",
    "    return ydot\n",
    "\n",
    "tspan = (0, 10)\n",
    "yinit = [-10, 0.1]  # try [-10, 0] and [-10, 0.1]\n",
    "\n",
    "sol = integrate.solve_ivp(fun = valleyf, t_span = tspan, y0 = yinit, method = 'RK23')\n",
    "\n",
    "%matplotlib inline\n",
    "plt.plot(sol.y[0], sol.y[1], 'o-', label='ode solution')\n",
    "plt.xlabel('y0')\n",
    "plt.ylabel('y1')\n",
    "plt.title('valley walk, %d steps' % len(sol.t))"
   ]
  },
  {
   "cell_type": "code",
   "execution_count": null,
   "metadata": {},
   "outputs": [],
   "source": [
    "# zoom in on steepest-descent hiker with rk23\n",
    "\n",
    "#tspan = (0, 10)\n",
    "#yinit = [-10, 0.1]\n",
    "\n",
    "#sol = integrate.solve_ivp(fun = valleyf, t_span = tspan, y0 = yinit, method = 'RK23')\n",
    "\n",
    "plt.figure()\n",
    "plt.plot(sol.y[0], sol.y[1], 'o-', label='ode solution')\n",
    "plt.xlabel('y0')\n",
    "plt.ylabel('y1')\n",
    "plt.title('valley walk, %d steps' % len(sol.t))\n",
    "\n",
    "plt.figure()\n",
    "plt.plot(sol.y[0], sol.y[1], 'o-', label='ode solution')\n",
    "plt.xlabel('y0')\n",
    "plt.ylabel('y1')\n",
    "plt.gca().set_ylim([-.001, .007])\n",
    "plt.gca().set_xlim([-10,-9.8])\n",
    "plt.title('zoom on turn toward village')\n",
    "\n",
    "plt.figure()\n",
    "plt.plot(sol.y[0], sol.y[1], 'o-', label='ode solution')\n",
    "plt.xlabel('y0')\n",
    "plt.ylabel('y1')\n",
    "plt.gca().set_ylim([-.00002, .00002])\n",
    "plt.gca().set_xlim([-10,-8.])\n",
    "plt.title('zoom on valley floor')\n",
    "\n",
    "plt.figure()\n",
    "plt.plot(sol.y[0], sol.y[1], 'o-', label='ode solution')\n",
    "plt.xlabel('y0')\n",
    "plt.ylabel('y1')\n",
    "plt.gca().set_ylim([-.000005, .000005])\n",
    "plt.gca().set_xlim([-.08,-.073])\n",
    "plt.title('zoom on end of walk')\n"
   ]
  },
  {
   "cell_type": "markdown",
   "metadata": {},
   "source": [
    "### Radau Method\n",
    "\n",
    "The Radau solvers are **efficient implicit Runge-Kutta methods** that increase in order (order is a measure of how well it approximates the solution). However, the computational resources these solvers require do not increase in proportion to the order.\n",
    "\n",
    "It is especially good for fast solving at low tolerances (<1e-9) and **is a favorite of stiff problems**."
   ]
  },
  {
   "cell_type": "code",
   "execution_count": null,
   "metadata": {},
   "outputs": [],
   "source": [
    "# zoom in on steepest-descent hiker with Radau \n",
    "\n",
    "tspan = (0, 10)\n",
    "yinit = [-10, 0.1]\n",
    "\n",
    "sol = integrate.solve_ivp(fun = valleyf, t_span = tspan, y0 = yinit, method = 'Radau')\n",
    "\n",
    "plt.figure()\n",
    "plt.plot(sol.y[0], sol.y[1], 'o-', label='ode solution')\n",
    "plt.xlabel('y0')\n",
    "plt.ylabel('y1')\n",
    "plt.title('valley walk, %d steps' % len(sol.t))\n",
    "\n",
    "plt.figure()\n",
    "plt.plot(sol.y[0], sol.y[1], 'o-', label='ode solution')\n",
    "plt.xlabel('y0')\n",
    "plt.ylabel('y1')\n",
    "plt.gca().set_ylim([-.001, .007])\n",
    "plt.gca().set_xlim([-10,-9.8])\n",
    "plt.title('zoom on turn toward village')\n",
    "\n",
    "plt.figure()\n",
    "plt.plot(sol.y[0], sol.y[1], 'o-', label='ode solution')\n",
    "plt.xlabel('y0')\n",
    "plt.ylabel('y1')\n",
    "plt.gca().set_ylim([-.00002, .00002])\n",
    "plt.gca().set_xlim([-10,-8.])\n",
    "plt.title('zoom on valley floor')\n",
    "\n",
    "plt.figure()\n",
    "plt.plot(sol.y[0], sol.y[1], 'o-', label='ode solution')\n",
    "plt.xlabel('y0')\n",
    "plt.ylabel('y1')\n",
    "plt.gca().set_ylim([-.00002, .00002])\n",
    "plt.gca().set_xlim([-1,0.1])\n",
    "plt.title('zoom on end of walk')\n"
   ]
  },
  {
   "cell_type": "code",
   "execution_count": null,
   "metadata": {},
   "outputs": [],
   "source": [
    "# flame ODE, with zoom, using Radau\n",
    "\n",
    "delta = .001\n",
    "tspan = (0, 2/delta)\n",
    "yinit = [delta]\n",
    "\n",
    "sol = integrate.solve_ivp(fun = flamef, t_span = tspan, y0 = yinit, method = 'Radau')\n",
    "\n",
    "%matplotlib inline\n",
    "plt.figure()\n",
    "plt.plot(sol.t, sol.y[0], '.-', label='ode solution')\n",
    "plt.xlabel('t')\n",
    "plt.ylabel('y')\n",
    "plt.title('flame: ydot = y**2 - y**3,     %d steps' % len(sol.t))\n",
    "\n",
    "plt.figure()\n",
    "plt.plot(sol.t, sol.y[0], '.-', label='ode solution')\n",
    "plt.xlabel('t')\n",
    "plt.ylabel('y')\n",
    "plt.gca().set_ylim([0, .2])\n",
    "plt.gca().set_xlim([850,1020])\n",
    "plt.title('zoom on initial growth')\n",
    "\n",
    "plt.figure()\n",
    "plt.plot(sol.t, sol.y[0], '.-', label='ode solution')\n",
    "plt.xlabel('t')\n",
    "plt.ylabel('y')\n",
    "plt.gca().set_ylim([0.99, 1.01])\n",
    "plt.gca().set_xlim([1000,1200])\n",
    "plt.title('zoom on final stage')"
   ]
  },
  {
   "cell_type": "markdown",
   "metadata": {},
   "source": [
    "## Class Exercise 1"
   ]
  },
  {
   "cell_type": "code",
   "execution_count": null,
   "metadata": {},
   "outputs": [],
   "source": [
    "c = 2/math.sqrt(math.pi)\n",
    "\n",
    "def ver_erf(t, y):\n",
    "    ydot = c*np.exp(-t**2)\n",
    "    return ydot\n",
    "\n",
    "tspan = (0, 2)\n",
    "yinit = [0]\n",
    "\n",
    "sol = integrate.solve_ivp(fun = ver_erf, t_span = tspan, y0 = yinit, method = 'RK23')\n",
    "\n",
    "%matplotlib inline\n",
    "plt.plot(sol.t, sol.y[0], '.', label='ode solution')\n",
    "\n",
    "tt = np.linspace(0, 2, 20)\n",
    "plt.plot(tt, np.erf(tt), label='erf(t)')\n",
    "plt.legend()\n",
    "plt.xlabel('t')\n",
    "plt.ylabel('y')\n",
    "plt.title('erf(x) ODE')"
   ]
  },
  {
   "cell_type": "markdown",
   "metadata": {},
   "source": [
    "## Class Exercise 2"
   ]
  },
  {
   "cell_type": "code",
   "execution_count": null,
   "metadata": {},
   "outputs": [],
   "source": [
    "def stiff(t, y):\n",
    "    ydot = -50*y\n",
    "    return ydot\n",
    "\n",
    "tspan = (0, 2)\n",
    "yinit = [-2]\n",
    "\n",
    "sol = integrate.solve_ivp(fun = stiff, t_span = tspan, y0 = yinit, method = 'RK23')\n",
    "\n",
    "%matplotlib inline\n",
    "plt.plot(sol.t, sol.y[0], '.-', label='ode solution')\n",
    "#tt = np.linspace(0, .2, 20)\n",
    "#plt.plot(tt, 1+tt, label='1+t')\n",
    "plt.gca().set_ylim([-.00002, .00002])\n",
    "\n",
    "plt.legend()\n",
    "plt.xlabel('t')\n",
    "plt.ylabel('y')\n",
    "plt.title('1+t ODE')"
   ]
  }
 ],
 "metadata": {
  "kernelspec": {
   "display_name": "Python 3",
   "language": "python",
   "name": "python3"
  },
  "language_info": {
   "codemirror_mode": {
    "name": "ipython",
    "version": 3
   },
   "file_extension": ".py",
   "mimetype": "text/x-python",
   "name": "python",
   "nbconvert_exporter": "python",
   "pygments_lexer": "ipython3",
   "version": "3.7.1"
  }
 },
 "nbformat": 4,
 "nbformat_minor": 2
}
