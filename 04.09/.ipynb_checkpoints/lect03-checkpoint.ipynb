{
 "cells": [
  {
   "cell_type": "markdown",
   "metadata": {},
   "source": [
    "<em>We'll start off by importing numpy and the linear algebra class (linalg) from numpy</em>"
   ]
  },
  {
   "cell_type": "code",
   "execution_count": 2,
   "metadata": {},
   "outputs": [],
   "source": [
    "import numpy as np\n",
    "import numpy.linalg as npla"
   ]
  },
  {
   "cell_type": "markdown",
   "metadata": {},
   "source": [
    "*Demonstrating some \"special\" matrices*"
   ]
  },
  {
   "cell_type": "code",
   "execution_count": 3,
   "metadata": {},
   "outputs": [
    {
     "name": "stdout",
     "output_type": "stream",
     "text": [
      "[[ 0  1  2  3  4]\n",
      " [ 5  6  7  8  9]\n",
      " [10 11 12 13 14]\n",
      " [15 16 17 18 19]\n",
      " [20 21 22 23 24]]\n"
     ]
    }
   ],
   "source": [
    "A = np.array(range(25)).reshape(5,5)\n",
    "print(A)"
   ]
  },
  {
   "cell_type": "code",
   "execution_count": 6,
   "metadata": {},
   "outputs": [
    {
     "name": "stdout",
     "output_type": "stream",
     "text": [
      "[[1. 0. 0. 0. 0.]\n",
      " [0. 1. 0. 0. 0.]\n",
      " [0. 0. 1. 0. 0.]\n",
      " [0. 0. 0. 1. 0.]\n",
      " [0. 0. 0. 0. 1.]]\n"
     ]
    }
   ],
   "source": [
    "I = np.eye(5)\n",
    "print(I)"
   ]
  },
  {
   "cell_type": "code",
   "execution_count": 7,
   "metadata": {},
   "outputs": [
    {
     "name": "stdout",
     "output_type": "stream",
     "text": [
      "[[ 0.  1.  2.  3.  4.]\n",
      " [ 5.  6.  7.  8.  9.]\n",
      " [10. 11. 12. 13. 14.]\n",
      " [15. 16. 17. 18. 19.]\n",
      " [20. 21. 22. 23. 24.]]\n"
     ]
    }
   ],
   "source": [
    "print(A@I)"
   ]
  },
  {
   "cell_type": "markdown",
   "metadata": {},
   "source": [
    "*Demonstrating how to create a diagonal matrix and transposed matrices*"
   ]
  },
  {
   "cell_type": "code",
   "execution_count": 8,
   "metadata": {},
   "outputs": [],
   "source": [
    "D = np.diag([2,1,1,0,3])"
   ]
  },
  {
   "cell_type": "code",
   "execution_count": 9,
   "metadata": {},
   "outputs": [
    {
     "name": "stdout",
     "output_type": "stream",
     "text": [
      "A =\n",
      " [[ 0  1  2  3  4]\n",
      " [ 5  6  7  8  9]\n",
      " [10 11 12 13 14]\n",
      " [15 16 17 18 19]\n",
      " [20 21 22 23 24]] \n",
      "\n",
      " D =\n",
      " [[2 0 0 0 0]\n",
      " [0 1 0 0 0]\n",
      " [0 0 1 0 0]\n",
      " [0 0 0 0 0]\n",
      " [0 0 0 0 3]]\n"
     ]
    }
   ],
   "source": [
    "print(\"A =\\n\", A,\"\\n\\n D =\\n\", D)"
   ]
  },
  {
   "cell_type": "code",
   "execution_count": 10,
   "metadata": {},
   "outputs": [
    {
     "name": "stdout",
     "output_type": "stream",
     "text": [
      "A.D =\n",
      " [[ 0  1  2  0 12]\n",
      " [10  6  7  0 27]\n",
      " [20 11 12  0 42]\n",
      " [30 16 17  0 57]\n",
      " [40 21 22  0 72]] \n",
      "\n",
      " D.A =\n",
      " [[ 0  2  4  6  8]\n",
      " [ 5  6  7  8  9]\n",
      " [10 11 12 13 14]\n",
      " [ 0  0  0  0  0]\n",
      " [60 63 66 69 72]] \n",
      "\n",
      " (D.A)Transposed =\n",
      " [[ 0  5 10  0 60]\n",
      " [ 2  6 11  0 63]\n",
      " [ 4  7 12  0 66]\n",
      " [ 6  8 13  0 69]\n",
      " [ 8  9 14  0 72]]\n"
     ]
    }
   ],
   "source": [
    "print(\"A.D =\\n\",A@D, \"\\n\\n D.A =\\n\",D@A, \"\\n\\n (D.A)Transposed =\\n\",(D@A).T)"
   ]
  },
  {
   "cell_type": "markdown",
   "metadata": {},
   "source": [
    "*Demonstrating how to change single matrix cell entries and single row entries*"
   ]
  },
  {
   "cell_type": "code",
   "execution_count": 11,
   "metadata": {},
   "outputs": [
    {
     "name": "stdout",
     "output_type": "stream",
     "text": [
      "[[42  1  2  3  4]\n",
      " [ 5  6  7  8  9]\n",
      " [10 11 99 13 14]\n",
      " [15 16 17 18 19]\n",
      " [20 21 22 23 24]]\n"
     ]
    }
   ],
   "source": [
    "A[0,0] = 42\n",
    "A[2,2] = 99\n",
    "print(A)"
   ]
  },
  {
   "cell_type": "code",
   "execution_count": 15,
   "metadata": {},
   "outputs": [
    {
     "name": "stdout",
     "output_type": "stream",
     "text": [
      "[20 21 22 23 24]\n"
     ]
    }
   ],
   "source": [
    "print(A[4,:])"
   ]
  },
  {
   "cell_type": "markdown",
   "metadata": {},
   "source": [
    "*Demonstrating how to change the row order in a matrix*"
   ]
  },
  {
   "cell_type": "code",
   "execution_count": 16,
   "metadata": {},
   "outputs": [
    {
     "name": "stdout",
     "output_type": "stream",
     "text": [
      "[[42  1  2  3  4]\n",
      " [ 5  6  7  8  9]\n",
      " [10 11 99 13 14]\n",
      " [15 16 17 18 19]\n",
      " [20 21 22 23 24]] \n",
      "\n",
      " [[ 5  6  7  8  9]\n",
      " [42  1  2  3  4]\n",
      " [10 11 99 13 14]\n",
      " [15 16 17 18 19]\n",
      " [20 21 22 23 24]]\n"
     ]
    }
   ],
   "source": [
    "B = A[[1,0,2,3,4],:]\n",
    "print(A, \"\\n\\n\", B)"
   ]
  },
  {
   "cell_type": "markdown",
   "metadata": {},
   "source": [
    "*Demonstrating the .permutation() function and its use in rearraning row order in a matrix*"
   ]
  },
  {
   "cell_type": "code",
   "execution_count": 40,
   "metadata": {
    "scrolled": true
   },
   "outputs": [
    {
     "data": {
      "text/plain": [
       "array([3, 1, 0, 2, 4])"
      ]
     },
     "execution_count": 40,
     "metadata": {},
     "output_type": "execute_result"
    }
   ],
   "source": [
    "np.random.permutation(5)"
   ]
  },
  {
   "cell_type": "code",
   "execution_count": 41,
   "metadata": {},
   "outputs": [
    {
     "name": "stdout",
     "output_type": "stream",
     "text": [
      "[1 3 4 2 0] \n",
      "\n",
      "[[0. 1. 0. 0. 0.]\n",
      " [0. 0. 0. 1. 0.]\n",
      " [0. 0. 0. 0. 1.]\n",
      " [0. 0. 1. 0. 0.]\n",
      " [1. 0. 0. 0. 0.]]\n"
     ]
    }
   ],
   "source": [
    "vec = np.random.permutation(5)\n",
    "I = np.eye(5)\n",
    "\n",
    "print(vec, \"\\n\")\n",
    "P = I[vec,:]\n",
    "print(P)"
   ]
  },
  {
   "cell_type": "code",
   "execution_count": 42,
   "metadata": {},
   "outputs": [
    {
     "name": "stdout",
     "output_type": "stream",
     "text": [
      "[[ 5.  6.  7.  8.  9.]\n",
      " [15. 16. 17. 18. 19.]\n",
      " [20. 21. 22. 23. 24.]\n",
      " [10. 11. 99. 13. 14.]\n",
      " [42.  1.  2.  3.  4.]] \n",
      "\n",
      "[[ 1.  6. 11. 16. 21.]\n",
      " [ 3.  8. 13. 18. 23.]\n",
      " [ 4.  9. 14. 19. 24.]\n",
      " [ 2.  7. 99. 17. 22.]\n",
      " [42.  5. 10. 15. 20.]] \n",
      "\n",
      "[[ 5. 15. 20. 10. 42.]\n",
      " [ 6. 16. 21. 11.  1.]\n",
      " [ 7. 17. 22. 99.  2.]\n",
      " [ 8. 18. 23. 13.  3.]\n",
      " [ 9. 19. 24. 14.  4.]] \n",
      "\n"
     ]
    }
   ],
   "source": [
    "print(P @ A, '\\n')\n",
    "print(P @ A.T, '\\n')\n",
    "print((P @ A).T, '\\n')"
   ]
  },
  {
   "cell_type": "markdown",
   "metadata": {},
   "source": [
    "*Reordering rows vs. reordering columns*"
   ]
  },
  {
   "cell_type": "code",
   "execution_count": 44,
   "metadata": {},
   "outputs": [
    {
     "name": "stdout",
     "output_type": "stream",
     "text": [
      "A:\n",
      " [[42  1  2  3  4]\n",
      " [ 5  6  7  8  9]\n",
      " [10 11 99 13 14]\n",
      " [15 16 17 18 19]\n",
      " [20 21 22 23 24]] \n",
      "\n",
      "vec:\n",
      " [3, 1, 2, 4, 0]\n"
     ]
    }
   ],
   "source": [
    "vec = [3,1,2,4,0]\n",
    "print(\"A:\\n\", A, \"\\n\\nvec:\\n\", vec)"
   ]
  },
  {
   "cell_type": "code",
   "execution_count": 45,
   "metadata": {},
   "outputs": [
    {
     "name": "stdout",
     "output_type": "stream",
     "text": [
      "A[vec,:]\n",
      " [[15 16 17 18 19]\n",
      " [ 5  6  7  8  9]\n",
      " [10 11 99 13 14]\n",
      " [20 21 22 23 24]\n",
      " [42  1  2  3  4]] \n",
      "\n",
      "A[:,vec]\n",
      " [[ 3  1  2  4 42]\n",
      " [ 8  6  7  9  5]\n",
      " [13 11 99 14 10]\n",
      " [18 16 17 19 15]\n",
      " [23 21 22 24 20]]\n"
     ]
    }
   ],
   "source": [
    "print(\"A[vec,:]\\n\", A[vec,:], \"\\n\\nA[:,vec]\\n\", A[:,vec])"
   ]
  },
  {
   "cell_type": "markdown",
   "metadata": {},
   "source": [
    "*Let's go back to the Ax = b setup*"
   ]
  },
  {
   "cell_type": "code",
   "execution_count": null,
   "metadata": {},
   "outputs": [],
   "source": [
    "A = np.array([[ 2. ,  7. ,  1. ,  8. ],\n",
    "       [ 1. ,  5.5,  8.5,  5. ],\n",
    "       [ 0. ,  1. , 12. ,  2.5],\n",
    "       [-1. , -4.5, -4.5,  3.5]])\n",
    "print(\"A:\", A,'\\n')"
   ]
  },
  {
   "cell_type": "code",
   "execution_count": null,
   "metadata": {},
   "outputs": [],
   "source": [
    "# Recall we found U and L\n",
    "# We used Gaussian elimination on the blackboard to triangularize A, giving U\n",
    "# During Gaussian elimination, we wrote down the multipliers in a lower triangular array \n",
    "# I and then put ones on the diagonal, giving L\n",
    "\n",
    "U = np.array([[2,7,1,8],[0,2,8,1],[0,0,8,2],[0,0,0,8]])\n",
    "L = np.array([[1,0,0,0],[.5,1,0,0],[0,.5,1,0],[-.5,-.5,0,1]])\n",
    "print(U, \"\\n\\n\", L)"
   ]
  },
  {
   "cell_type": "code",
   "execution_count": null,
   "metadata": {},
   "outputs": [],
   "source": [
    "# The theorem: Gaussian elimination factors A as the product L time U\n",
    "\n",
    "print( L @ U)\n",
    "print()\n",
    "print(A)"
   ]
  }
 ],
 "metadata": {
  "kernelspec": {
   "display_name": "Python 3",
   "language": "python",
   "name": "python3"
  },
  "language_info": {
   "codemirror_mode": {
    "name": "ipython",
    "version": 3
   },
   "file_extension": ".py",
   "mimetype": "text/x-python",
   "name": "python",
   "nbconvert_exporter": "python",
   "pygments_lexer": "ipython3",
   "version": "3.7.1"
  }
 },
 "nbformat": 4,
 "nbformat_minor": 2
}
