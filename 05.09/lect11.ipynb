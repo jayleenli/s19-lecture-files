{
 "cells": [
  {
   "cell_type": "markdown",
   "metadata": {},
   "source": [
    "# Imports and defs for lecture"
   ]
  },
  {
   "cell_type": "code",
   "execution_count": 1,
   "metadata": {},
   "outputs": [],
   "source": [
    "# These are the standard imports for CS 111. \n",
    "# This list may change as the quarter goes on.\n",
    "\n",
    "import math\n",
    "import numpy as np\n",
    "import numpy.linalg as npla\n",
    "\n",
    "# New one!\n",
    "import struct"
   ]
  },
  {
   "cell_type": "markdown",
   "metadata": {},
   "source": [
    "# Lecture starts here"
   ]
  },
  {
   "cell_type": "markdown",
   "metadata": {},
   "source": [
    "### *The peculiarities of inf and nan in Python (numpy vs. math vs. standard)*"
   ]
  },
  {
   "cell_type": "code",
   "execution_count": 2,
   "metadata": {},
   "outputs": [
    {
     "data": {
      "text/plain": [
       "0.0"
      ]
     },
     "execution_count": 2,
     "metadata": {},
     "output_type": "execute_result"
    }
   ],
   "source": [
    "np.log(1)"
   ]
  },
  {
   "cell_type": "code",
   "execution_count": 3,
   "metadata": {},
   "outputs": [
    {
     "name": "stderr",
     "output_type": "stream",
     "text": [
      "C:\\Users\\jayle\\Anaconda3\\lib\\site-packages\\ipykernel_launcher.py:1: RuntimeWarning: divide by zero encountered in log\n",
      "  \"\"\"Entry point for launching an IPython kernel.\n"
     ]
    },
    {
     "data": {
      "text/plain": [
       "-inf"
      ]
     },
     "execution_count": 3,
     "metadata": {},
     "output_type": "execute_result"
    }
   ],
   "source": [
    "np.log(0)"
   ]
  },
  {
   "cell_type": "code",
   "execution_count": 4,
   "metadata": {},
   "outputs": [
    {
     "name": "stderr",
     "output_type": "stream",
     "text": [
      "C:\\Users\\jayle\\Anaconda3\\lib\\site-packages\\ipykernel_launcher.py:1: RuntimeWarning: invalid value encountered in log\n",
      "  \"\"\"Entry point for launching an IPython kernel.\n"
     ]
    },
    {
     "data": {
      "text/plain": [
       "nan"
      ]
     },
     "execution_count": 4,
     "metadata": {},
     "output_type": "execute_result"
    }
   ],
   "source": [
    "np.log(-1)\n",
    "#no way for numpy express a negative/ complex number"
   ]
  },
  {
   "cell_type": "code",
   "execution_count": 5,
   "metadata": {},
   "outputs": [
    {
     "data": {
      "text/plain": [
       "3.0"
      ]
     },
     "execution_count": 5,
     "metadata": {},
     "output_type": "execute_result"
    }
   ],
   "source": [
    "np.sqrt(9)"
   ]
  },
  {
   "cell_type": "code",
   "execution_count": 6,
   "metadata": {},
   "outputs": [
    {
     "name": "stderr",
     "output_type": "stream",
     "text": [
      "C:\\Users\\jayle\\Anaconda3\\lib\\site-packages\\ipykernel_launcher.py:1: RuntimeWarning: invalid value encountered in sqrt\n",
      "  \"\"\"Entry point for launching an IPython kernel.\n"
     ]
    },
    {
     "data": {
      "text/plain": [
       "nan"
      ]
     },
     "execution_count": 6,
     "metadata": {},
     "output_type": "execute_result"
    }
   ],
   "source": [
    "np.sqrt(-9)\n",
    "# it is complex number, it does have solution, but in the numpy world, it doesnt have a solution "
   ]
  },
  {
   "cell_type": "code",
   "execution_count": 10,
   "metadata": {},
   "outputs": [
    {
     "ename": "ValueError",
     "evalue": "math domain error",
     "output_type": "error",
     "traceback": [
      "\u001b[1;31m---------------------------------------------------------------------------\u001b[0m",
      "\u001b[1;31mValueError\u001b[0m                                Traceback (most recent call last)",
      "\u001b[1;32m<ipython-input-10-100636e5d0ae>\u001b[0m in \u001b[0;36m<module>\u001b[1;34m\u001b[0m\n\u001b[1;32m----> 1\u001b[1;33m \u001b[0mmath\u001b[0m\u001b[1;33m.\u001b[0m\u001b[0msqrt\u001b[0m\u001b[1;33m(\u001b[0m\u001b[1;33m-\u001b[0m\u001b[1;36m9\u001b[0m\u001b[1;33m)\u001b[0m\u001b[1;33m\u001b[0m\u001b[1;33m\u001b[0m\u001b[0m\n\u001b[0m",
      "\u001b[1;31mValueError\u001b[0m: math domain error"
     ]
    }
   ],
   "source": [
    "math.sqrt(-9)"
   ]
  },
  {
   "cell_type": "code",
   "execution_count": 8,
   "metadata": {},
   "outputs": [
    {
     "data": {
      "text/plain": [
       "(1.8369701987210297e-16+3j)"
      ]
     },
     "execution_count": 8,
     "metadata": {},
     "output_type": "execute_result"
    }
   ],
   "source": [
    "(-9)**0.5\n",
    "#raised to the power works tho, basic python, and it does have a solution that is represented in imaginary\n",
    "#real plus imaginary"
   ]
  },
  {
   "cell_type": "code",
   "execution_count": 9,
   "metadata": {},
   "outputs": [
    {
     "name": "stderr",
     "output_type": "stream",
     "text": [
      "C:\\Users\\jayle\\Anaconda3\\lib\\site-packages\\ipykernel_launcher.py:1: RuntimeWarning: invalid value encountered in log\n",
      "  \"\"\"Entry point for launching an IPython kernel.\n",
      "C:\\Users\\jayle\\Anaconda3\\lib\\site-packages\\ipykernel_launcher.py:1: RuntimeWarning: divide by zero encountered in log\n",
      "  \"\"\"Entry point for launching an IPython kernel.\n",
      "C:\\Users\\jayle\\Anaconda3\\lib\\site-packages\\ipykernel_launcher.py:1: RuntimeWarning: invalid value encountered in sqrt\n",
      "  \"\"\"Entry point for launching an IPython kernel.\n"
     ]
    },
    {
     "data": {
      "text/plain": [
       "array([ True, False, False,  True, False])"
      ]
     },
     "execution_count": 9,
     "metadata": {},
     "output_type": "execute_result"
    }
   ],
   "source": [
    "np.isnan([np.log(-1.), 1., np.log(0), np.sqrt(-9), (-9)**0.5])\n",
    "#returns if it is not a number or not."
   ]
  },
  {
   "cell_type": "markdown",
   "metadata": {},
   "source": [
    "### *Eigenvalues and Eigenvectors Demo*"
   ]
  },
  {
   "cell_type": "code",
   "execution_count": 11,
   "metadata": {
    "scrolled": true
   },
   "outputs": [
    {
     "name": "stdout",
     "output_type": "stream",
     "text": [
      "[[ 0.9988399   0.70244041  0.95532894  0.63749826]\n",
      " [-0.91958433  0.64827455  2.18478217 -0.477636  ]\n",
      " [-0.27154439  0.34524352 -0.06902495  1.97150105]\n",
      " [-0.58614279  1.5022517   0.48845966 -0.69344753]]\n"
     ]
    },
    {
     "data": {
      "text/plain": [
       "4"
      ]
     },
     "execution_count": 11,
     "metadata": {},
     "output_type": "execute_result"
    }
   ],
   "source": [
    "#A = np.array([[1,1,1],[1,0,2],[2,2,1]])\n",
    "#np.random.seed(80085)\n",
    "A = np.random.randn(4,4)\n",
    "print(A)\n",
    "npla.matrix_rank(A)"
   ]
  },
  {
   "cell_type": "code",
   "execution_count": 12,
   "metadata": {},
   "outputs": [
    {
     "name": "stdout",
     "output_type": "stream",
     "text": [
      "Help on function eig in module numpy.linalg.linalg:\n",
      "\n",
      "eig(a)\n",
      "    Compute the eigenvalues and right eigenvectors of a square array.\n",
      "    \n",
      "    Parameters\n",
      "    ----------\n",
      "    a : (..., M, M) array\n",
      "        Matrices for which the eigenvalues and right eigenvectors will\n",
      "        be computed\n",
      "    \n",
      "    Returns\n",
      "    -------\n",
      "    w : (..., M) array\n",
      "        The eigenvalues, each repeated according to its multiplicity.\n",
      "        The eigenvalues are not necessarily ordered. The resulting\n",
      "        array will be of complex type, unless the imaginary part is\n",
      "        zero in which case it will be cast to a real type. When `a`\n",
      "        is real the resulting eigenvalues will be real (0 imaginary\n",
      "        part) or occur in conjugate pairs\n",
      "    \n",
      "    v : (..., M, M) array\n",
      "        The normalized (unit \"length\") eigenvectors, such that the\n",
      "        column ``v[:,i]`` is the eigenvector corresponding to the\n",
      "        eigenvalue ``w[i]``.\n",
      "    \n",
      "    Raises\n",
      "    ------\n",
      "    LinAlgError\n",
      "        If the eigenvalue computation does not converge.\n",
      "    \n",
      "    See Also\n",
      "    --------\n",
      "    eigvals : eigenvalues of a non-symmetric array.\n",
      "    \n",
      "    eigh : eigenvalues and eigenvectors of a symmetric or Hermitian\n",
      "           (conjugate symmetric) array.\n",
      "    \n",
      "    eigvalsh : eigenvalues of a symmetric or Hermitian (conjugate symmetric)\n",
      "               array.\n",
      "    \n",
      "    Notes\n",
      "    -----\n",
      "    \n",
      "    .. versionadded:: 1.8.0\n",
      "    \n",
      "    Broadcasting rules apply, see the `numpy.linalg` documentation for\n",
      "    details.\n",
      "    \n",
      "    This is implemented using the _geev LAPACK routines which compute\n",
      "    the eigenvalues and eigenvectors of general square arrays.\n",
      "    \n",
      "    The number `w` is an eigenvalue of `a` if there exists a vector\n",
      "    `v` such that ``dot(a,v) = w * v``. Thus, the arrays `a`, `w`, and\n",
      "    `v` satisfy the equations ``dot(a[:,:], v[:,i]) = w[i] * v[:,i]``\n",
      "    for :math:`i \\in \\{0,...,M-1\\}`.\n",
      "    \n",
      "    The array `v` of eigenvectors may not be of maximum rank, that is, some\n",
      "    of the columns may be linearly dependent, although round-off error may\n",
      "    obscure that fact. If the eigenvalues are all different, then theoretically\n",
      "    the eigenvectors are linearly independent. Likewise, the (complex-valued)\n",
      "    matrix of eigenvectors `v` is unitary if the matrix `a` is normal, i.e.,\n",
      "    if ``dot(a, a.H) = dot(a.H, a)``, where `a.H` denotes the conjugate\n",
      "    transpose of `a`.\n",
      "    \n",
      "    Finally, it is emphasized that `v` consists of the *right* (as in\n",
      "    right-hand side) eigenvectors of `a`.  A vector `y` satisfying\n",
      "    ``dot(y.T, a) = z * y.T`` for some number `z` is called a *left*\n",
      "    eigenvector of `a`, and, in general, the left and right eigenvectors\n",
      "    of a matrix are not necessarily the (perhaps conjugate) transposes\n",
      "    of each other.\n",
      "    \n",
      "    References\n",
      "    ----------\n",
      "    G. Strang, *Linear Algebra and Its Applications*, 2nd Ed., Orlando, FL,\n",
      "    Academic Press, Inc., 1980, Various pp.\n",
      "    \n",
      "    Examples\n",
      "    --------\n",
      "    >>> from numpy import linalg as LA\n",
      "    \n",
      "    (Almost) trivial example with real e-values and e-vectors.\n",
      "    \n",
      "    >>> w, v = LA.eig(np.diag((1, 2, 3)))\n",
      "    >>> w; v\n",
      "    array([ 1.,  2.,  3.])\n",
      "    array([[ 1.,  0.,  0.],\n",
      "           [ 0.,  1.,  0.],\n",
      "           [ 0.,  0.,  1.]])\n",
      "    \n",
      "    Real matrix possessing complex e-values and e-vectors; note that the\n",
      "    e-values are complex conjugates of each other.\n",
      "    \n",
      "    >>> w, v = LA.eig(np.array([[1, -1], [1, 1]]))\n",
      "    >>> w; v\n",
      "    array([ 1. + 1.j,  1. - 1.j])\n",
      "    array([[ 0.70710678+0.j        ,  0.70710678+0.j        ],\n",
      "           [ 0.00000000-0.70710678j,  0.00000000+0.70710678j]])\n",
      "    \n",
      "    Complex-valued matrix with real e-values (but complex-valued e-vectors);\n",
      "    note that a.conj().T = a, i.e., a is Hermitian.\n",
      "    \n",
      "    >>> a = np.array([[1, 1j], [-1j, 1]])\n",
      "    >>> w, v = LA.eig(a)\n",
      "    >>> w; v\n",
      "    array([  2.00000000e+00+0.j,   5.98651912e-36+0.j]) # i.e., {2, 0}\n",
      "    array([[ 0.00000000+0.70710678j,  0.70710678+0.j        ],\n",
      "           [ 0.70710678+0.j        ,  0.00000000+0.70710678j]])\n",
      "    \n",
      "    Be careful about round-off error!\n",
      "    \n",
      "    >>> a = np.array([[1 + 1e-9, 0], [0, 1 - 1e-9]])\n",
      "    >>> # Theor. e-values are 1 +/- 1e-9\n",
      "    >>> w, v = LA.eig(a)\n",
      "    >>> w; v\n",
      "    array([ 1.,  1.])\n",
      "    array([[ 1.,  0.],\n",
      "           [ 0.,  1.]])\n",
      "\n"
     ]
    }
   ],
   "source": [
    "help(npla.eig)\n",
    "# if you ever forget how to use commands"
   ]
  },
  {
   "cell_type": "code",
   "execution_count": 13,
   "metadata": {},
   "outputs": [
    {
     "name": "stdout",
     "output_type": "stream",
     "text": [
      "d:\n",
      " [ 1.52972674+1.00648857j  1.52972674-1.00648857j -1.08740575+1.35535594j\n",
      " -1.08740575-1.35535594j] \n",
      "\n",
      "V:\n",
      " [[-0.75485624+0.j         -0.75485624-0.j          0.01648477+0.02740764j\n",
      "   0.01648477-0.02740764j]\n",
      " [-0.17353939-0.40061537j -0.17353939+0.40061537j  0.63435197+0.j\n",
      "   0.63435197-0.j        ]\n",
      " [-0.22506924-0.30552229j -0.22506924+0.30552229j -0.50794784+0.29610809j\n",
      "  -0.50794784-0.29610809j]\n",
      " [-0.10012106-0.29250506j -0.10012106+0.29250506j -0.05000103-0.49838093j\n",
      "  -0.05000103+0.49838093j]]\n"
     ]
    }
   ],
   "source": [
    "d, V = npla.eig(A)\n",
    "print(\"d:\\n\", d, \"\\n\\nV:\\n\", V)\n",
    "# Note the possible complex numbers that come up\n",
    "# d is the eigenvalues returned by the eig function \n",
    "# V is the eigen vectors "
   ]
  },
  {
   "cell_type": "code",
   "execution_count": 14,
   "metadata": {},
   "outputs": [
    {
     "data": {
      "text/plain": [
       "array([-0.75485624+0.j        , -0.17353939-0.40061537j,\n",
       "       -0.22506924-0.30552229j, -0.10012106-0.29250506j])"
      ]
     },
     "execution_count": 14,
     "metadata": {},
     "output_type": "execute_result"
    }
   ],
   "source": [
    "V[:,0]\n",
    "#0,j means apprx 0 complex"
   ]
  },
  {
   "cell_type": "code",
   "execution_count": 15,
   "metadata": {},
   "outputs": [
    {
     "name": "stdout",
     "output_type": "stream",
     "text": [
      "[ 6.66133815e-16+5.55111512e-16j  1.94289029e-16+4.44089210e-16j\n",
      " -1.38777878e-16+2.22044605e-16j -2.22044605e-16+5.55111512e-16j]\n",
      "\n",
      "[ 9.02056208e-17-9.71445147e-16j -5.55111512e-16-2.22044605e-16j\n",
      " -1.11022302e-15+6.66133815e-16j  5.55111512e-16-3.88578059e-16j]\n",
      "\n",
      "[[ 8.88178420e-16+5.55111512e-16j  8.88178420e-16-5.55111512e-16j\n",
      "   1.87350135e-16-8.95984675e-16j  1.87350135e-16+8.95984675e-16j]\n",
      " [ 2.22044605e-16+4.44089210e-16j  2.22044605e-16-4.44089210e-16j\n",
      "  -5.55111512e-16-2.22044605e-16j -5.55111512e-16+2.22044605e-16j]\n",
      " [-1.04083409e-16+3.33066907e-16j -1.04083409e-16-3.33066907e-16j\n",
      "  -1.08246745e-15+6.66133815e-16j -1.08246745e-15-6.66133815e-16j]\n",
      " [-1.94289029e-16+6.66133815e-16j -1.94289029e-16-6.66133815e-16j\n",
      "   6.66133815e-16-4.44089210e-16j  6.66133815e-16+4.44089210e-16j]]\n"
     ]
    }
   ],
   "source": [
    "# Ax = lambda.x\n",
    "# works on the columns of A and x as well as on the whole matrices\n",
    "print(A@V[:,0] - d[0]*V[:,0])\n",
    "print()\n",
    "print(A@V[:,2] - d[2]*V[:,2])\n",
    "print()\n",
    "print(A@V - d*V)\n",
    "# d is the eigenvalues returned by the eig function "
   ]
  },
  {
   "cell_type": "code",
   "execution_count": 16,
   "metadata": {},
   "outputs": [
    {
     "name": "stdout",
     "output_type": "stream",
     "text": [
      "1.1886388043482663e-15\n",
      "\n",
      "1.8560082022393165e-15\n",
      "\n",
      "3.2858907067161524e-15\n"
     ]
    }
   ],
   "source": [
    "print(npla.norm(A@V[:,0] - d[0]*V[:,0]))\n",
    "print()\n",
    "print(npla.norm(A@V[:,2] - d[2]*V[:,2]))\n",
    "print()\n",
    "print(npla.norm(A@V - d*V))\n",
    "#expect theses to be very close to zero, which they are"
   ]
  },
  {
   "cell_type": "code",
   "execution_count": 17,
   "metadata": {},
   "outputs": [
    {
     "name": "stdout",
     "output_type": "stream",
     "text": [
      "A:\n",
      " [[ 0.9988399   0.70244041  0.95532894  0.63749826]\n",
      " [-0.91958433  0.64827455  2.18478217 -0.477636  ]\n",
      " [-0.27154439  0.34524352 -0.06902495  1.97150105]\n",
      " [-0.58614279  1.5022517   0.48845966 -0.69344753]] \n",
      "\n",
      "A.T\n",
      " [[ 0.9988399  -0.91958433 -0.27154439 -0.58614279]\n",
      " [ 0.70244041  0.64827455  0.34524352  1.5022517 ]\n",
      " [ 0.95532894  2.18478217 -0.06902495  0.48845966]\n",
      " [ 0.63749826 -0.477636    1.97150105 -0.69344753]]\n"
     ]
    }
   ],
   "source": [
    "# Let's find the transpose of A:\n",
    "print(\"A:\\n\", A, \"\\n\\nA.T\\n\", A.T)"
   ]
  },
  {
   "cell_type": "code",
   "execution_count": 18,
   "metadata": {},
   "outputs": [
    {
     "name": "stdout",
     "output_type": "stream",
     "text": [
      "dT:\n",
      " [ 1.52972674+1.00648857j  1.52972674-1.00648857j -1.08740575+1.35535594j\n",
      " -1.08740575-1.35535594j] \n",
      "\n",
      "d:\n",
      " [ 1.52972674+1.00648857j  1.52972674-1.00648857j -1.08740575+1.35535594j\n",
      " -1.08740575-1.35535594j] \n",
      "\n",
      "VT:\n",
      " [[-0.64869853+0.j         -0.64869853-0.j          0.05548281-0.05324021j\n",
      "   0.05548281+0.05324021j]\n",
      " [ 0.22749916+0.39549813j  0.22749916-0.39549813j -0.34048953-0.33054783j\n",
      "  -0.34048953+0.33054783j]\n",
      " [ 0.25184277+0.46662787j  0.25184277-0.46662787j -0.24468855+0.43343004j\n",
      "  -0.24468855-0.43343004j]\n",
      " [ 0.11395577+0.27724233j  0.11395577-0.27724233j  0.72191278+0.j\n",
      "   0.72191278-0.j        ]]\n"
     ]
    }
   ],
   "source": [
    "# ... and let's find A.T's eigenvalues and eigenvectors:\n",
    "dt, Vt = npla.eig(A.T)\n",
    "print(\"dT:\\n\", dt, \"\\n\\nd:\\n\", d, \"\\n\\nVT:\\n\", Vt)"
   ]
  },
  {
   "cell_type": "code",
   "execution_count": 19,
   "metadata": {},
   "outputs": [
    {
     "name": "stdout",
     "output_type": "stream",
     "text": [
      "[ 8.8817842e-16-2.22044605e-16j  8.8817842e-16+2.22044605e-16j\n",
      " -8.8817842e-16-2.22044605e-16j -8.8817842e-16+2.22044605e-16j]\n",
      "\n",
      "1.831026719408895e-15\n"
     ]
    }
   ],
   "source": [
    "# Find the difference between d and dt\n",
    "print(d - dt)\n",
    "print()\n",
    "print(npla.norm(d - dt))"
   ]
  },
  {
   "cell_type": "code",
   "execution_count": 20,
   "metadata": {
    "scrolled": true
   },
   "outputs": [
    {
     "name": "stdout",
     "output_type": "stream",
     "text": [
      "[[-0.10615771+0.j         -0.10615771+0.j         -0.03899804+0.08064785j\n",
      "  -0.03899804-0.08064785j]\n",
      " [-0.40103855-0.7961135j  -0.40103855+0.7961135j   0.9748415 +0.33054783j\n",
      "   0.9748415 -0.33054783j]\n",
      " [-0.47691201-0.77215016j -0.47691201+0.77215016j -0.26325929-0.13732195j\n",
      "  -0.26325929+0.13732195j]\n",
      " [-0.21407683-0.56974739j -0.21407683+0.56974739j -0.77191382-0.49838093j\n",
      "  -0.77191382+0.49838093j]]\n",
      "\n",
      "2.8284271247461903\n"
     ]
    }
   ],
   "source": [
    "# Find the difference between V and Vt\n",
    "print(V - Vt)\n",
    "print()\n",
    "print(npla.norm(V - Vt))"
   ]
  },
  {
   "cell_type": "code",
   "execution_count": 21,
   "metadata": {},
   "outputs": [
    {
     "data": {
      "text/plain": [
       "array([[ 1.99767981, -0.21714392,  0.68378455,  0.05135547],\n",
       "       [-0.21714392,  1.2965491 ,  2.53002569,  1.02461571],\n",
       "       [ 0.68378455,  2.53002569, -0.1380499 ,  2.45996071],\n",
       "       [ 0.05135547,  1.02461571,  2.45996071, -1.38689505]])"
      ]
     },
     "execution_count": 21,
     "metadata": {},
     "output_type": "execute_result"
    }
   ],
   "source": [
    "# What do we notice about matrix B?\n",
    "B = A + A.T\n",
    "B"
   ]
  },
  {
   "cell_type": "code",
   "execution_count": 22,
   "metadata": {},
   "outputs": [
    {
     "data": {
      "text/plain": [
       "array([[0., 0., 0., 0.],\n",
       "       [0., 0., 0., 0.],\n",
       "       [0., 0., 0., 0.],\n",
       "       [0., 0., 0., 0.]])"
      ]
     },
     "execution_count": 22,
     "metadata": {},
     "output_type": "execute_result"
    }
   ],
   "source": [
    "# Prove B is symmetrical!\n",
    "B - B.T"
   ]
  },
  {
   "cell_type": "code",
   "execution_count": 23,
   "metadata": {},
   "outputs": [
    {
     "name": "stdout",
     "output_type": "stream",
     "text": [
      "dB:\n",
      " [ 4.24716273  2.06459248 -3.50322433 -1.03924694] \n",
      "\n",
      "VT:\n",
      " [[-0.13470493  0.97652449  0.08739342 -0.14358582]\n",
      " [-0.66163184 -0.21158481  0.21820489 -0.68546466]\n",
      " [-0.62367411  0.03036845 -0.68552036  0.37439312]\n",
      " [-0.39386355 -0.02663722  0.6890652   0.60774263]]\n"
     ]
    }
   ],
   "source": [
    "# Let's find B's eigenvalues and eigenvectors:\n",
    "dB, VB = npla.eig(B)\n",
    "print(\"dB:\\n\", dB, \"\\n\\nVT:\\n\", VB)\n",
    "\n",
    "# What do you notice about these values????"
   ]
  },
  {
   "cell_type": "code",
   "execution_count": 24,
   "metadata": {},
   "outputs": [
    {
     "name": "stdout",
     "output_type": "stream",
     "text": [
      "A:\n",
      " [[ 0.9988399   0.70244041  0.95532894  0.63749826]\n",
      " [-0.91958433  0.64827455  2.18478217 -0.477636  ]\n",
      " [-0.27154439  0.34524352 -0.06902495  1.97150105]\n",
      " [-0.58614279  1.5022517   0.48845966 -0.69344753]]\n",
      "\n",
      "LAMBDA:\n",
      " [[ 1.52972674+1.00648857j  0.        +0.j          0.        +0.j\n",
      "   0.        +0.j        ]\n",
      " [ 0.        +0.j          1.52972674-1.00648857j  0.        +0.j\n",
      "   0.        +0.j        ]\n",
      " [ 0.        +0.j          0.        +0.j         -1.08740575+1.35535594j\n",
      "   0.        +0.j        ]\n",
      " [ 0.        +0.j          0.        +0.j          0.        +0.j\n",
      "  -1.08740575-1.35535594j]]\n",
      "\n",
      "X LAMBDA X-1:\n",
      " [[ 0.9988399 -4.04072974e-17j  0.70244041+7.02674276e-17j\n",
      "   0.95532894+1.72776412e-16j  0.63749826-1.68479874e-16j]\n",
      " [-0.91958433+3.90698718e-17j  0.64827455+2.00685776e-16j\n",
      "   2.18478217-3.96035003e-17j -0.477636  -2.28729831e-16j]\n",
      " [-0.27154439-4.52437378e-17j  0.34524352-4.59300816e-18j\n",
      "  -0.06902495+6.81446896e-17j  1.97150105-1.40542420e-16j]\n",
      " [-0.58614279+4.46437434e-17j  1.5022517 +1.83703888e-17j\n",
      "   0.48845966-1.58907158e-18j -0.69344753-4.24743926e-18j]]\n",
      "\n",
      "3.3861788334319145e-15\n"
     ]
    }
   ],
   "source": [
    "# Test out the A = X.LAMBDA.X-1 property:\n",
    "# X is the eigenvectors\n",
    "# LAMBDA is the eigenvalues placed as diagonals in a matrix\n",
    "print(\"A:\\n\", A)\n",
    "print()\n",
    "LAMBDA = np.diag(d)\n",
    "print(\"LAMBDA:\\n\", LAMBDA)\n",
    "print()\n",
    "M = (V@LAMBDA)@(npla.inv(V))\n",
    "print(\"X LAMBDA X-1:\\n\", M)\n",
    "print()\n",
    "print(npla.norm(M - A))"
   ]
  }
 ],
 "metadata": {
  "kernelspec": {
   "display_name": "Python 3",
   "language": "python",
   "name": "python3"
  },
  "language_info": {
   "codemirror_mode": {
    "name": "ipython",
    "version": 3
   },
   "file_extension": ".py",
   "mimetype": "text/x-python",
   "name": "python",
   "nbconvert_exporter": "python",
   "pygments_lexer": "ipython3",
   "version": "3.7.1"
  }
 },
 "nbformat": 4,
 "nbformat_minor": 2
}
