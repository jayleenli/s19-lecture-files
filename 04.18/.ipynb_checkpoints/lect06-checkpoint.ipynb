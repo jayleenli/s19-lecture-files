{
 "cells": [
  {
   "cell_type": "markdown",
   "metadata": {},
   "source": [
    "*We'll start off by importing everything we need*"
   ]
  },
  {
   "cell_type": "code",
   "execution_count": 1,
   "metadata": {},
   "outputs": [],
   "source": [
    "import os\n",
    "import math\n",
    "import numpy as np\n",
    "import numpy.linalg as npla\n",
    "import scipy\n",
    "import scipy.sparse.linalg as spla\n",
    "from scipy import sparse\n",
    "from scipy import linalg\n",
    "import matplotlib.pyplot as plt\n",
    "from matplotlib import cm\n",
    "from mpl_toolkits.mplot3d import axes3d\n",
    "# %matplotlib tk"
   ]
  },
  {
   "cell_type": "markdown",
   "metadata": {},
   "source": [
    "*First, we look at condition numbers:*"
   ]
  },
  {
   "cell_type": "code",
   "execution_count": 2,
   "metadata": {},
   "outputs": [
    {
     "name": "stdout",
     "output_type": "stream",
     "text": [
      "[[ 1.00000000e+00 -1.13686838e-13]\n",
      " [-2.16840434e-19  1.00000000e+00]]\n",
      "1000001.9999999999\n",
      "1000002.0\n",
      "\n",
      "[[ 1.00000000e+00  1.52655666e-16]\n",
      " [-3.05311332e-16  1.00000000e+00]]\n",
      "2.0500000000000003\n",
      "2.05\n",
      "\n",
      "[[ 1.00000000e+00  1.11022302e-16  1.11022302e-16]\n",
      " [-1.11022302e-16  1.00000000e+00  0.00000000e+00]\n",
      " [ 1.11022302e-16 -1.66533454e-16  1.00000000e+00]]\n",
      "3.6742346141747664\n",
      "3.674234614174767\n",
      "\n"
     ]
    }
   ],
   "source": [
    "M = np.array([[1,1000],[0,1]])\n",
    "#M = np.array([[0,0],[0,0]])\n",
    "print(npla.pinv(M)@M)\n",
    "print(npla.norm(M)*npla.norm(npla.pinv(M)))\n",
    "print(npla.cond(M, 'fro'))\n",
    "print()\n",
    "\n",
    "M = np.array([[1,9],[9,1]])\n",
    "print(npla.pinv(M)@M)\n",
    "print(npla.norm(M)*npla.norm(npla.pinv(M)))\n",
    "print(npla.cond(M, 'fro'))\n",
    "print()\n",
    "\n",
    "M = np.array([[1,1,0],[1,0,1],[0,1,1]])\n",
    "print(npla.pinv(M)@M)\n",
    "print(npla.norm(M)*npla.norm(npla.pinv(M)))\n",
    "print(npla.cond(M, 'fro'))\n",
    "print()\n"
   ]
  },
  {
   "cell_type": "markdown",
   "metadata": {},
   "source": [
    "***The Temperature Problem***"
   ]
  },
  {
   "cell_type": "code",
   "execution_count": 3,
   "metadata": {},
   "outputs": [],
   "source": [
    "def make_A(k):\n",
    "    \"\"\"Create the matrix for the temperature problem on a k-by-k grid.\n",
    "    Parameters: \n",
    "      k: number of grid points in each dimension.\n",
    "    Outputs:\n",
    "      A: the sparse k**2-by-k**2 matrix representing the finite difference approximation to Poisson's equation.\n",
    "    \"\"\"\n",
    "    # First make a list with one triple (row, column, value) for each nonzero element of A\n",
    "    triples = []\n",
    "    for i in range(k):\n",
    "        for j in range(k):\n",
    "            # what row of the matrix is grid point (i,j)?\n",
    "            row = j + i*k\n",
    "            # the diagonal element in this row\n",
    "            triples.append((row, row, 4.0))\n",
    "            # connect to left grid neighbor\n",
    "            if j > 0:\n",
    "                triples.append((row, row - 1, -1.0))\n",
    "            # ... right neighbor\n",
    "            if j < k - 1:\n",
    "                triples.append((row, row + 1, -1.0))\n",
    "            # ... neighbor above\n",
    "            if i > 0:\n",
    "                triples.append((row, row - k, -1.0))\n",
    "            # ... neighbor below\n",
    "            if i < k - 1:\n",
    "                triples.append((row, row + k, -1.0))\n",
    "    \n",
    "    # Finally convert the list of triples to a scipy sparse matrix\n",
    "    ndim = k*k\n",
    "    rownum = [t[0] for t in triples]\n",
    "    colnum = [t[1] for t in triples]\n",
    "    values = [t[2] for t in triples]\n",
    "    A = sparse.csr_matrix((values, (rownum, colnum)), shape = (ndim, ndim))\n",
    "    \n",
    "    return A "
   ]
  },
  {
   "cell_type": "code",
   "execution_count": 4,
   "metadata": {},
   "outputs": [],
   "source": [
    "def make_b(k, top = 0, bottom = 0, left = 0, right = 0):\n",
    "    \"\"\"Create the right-hand side for the temperature problem on a k-by-k grid.\n",
    "    Parameters: \n",
    "      k: number of grid points in each dimension.\n",
    "      top: list of k values for top boundary (optional, defaults to 0)\n",
    "      bottom: list of k values for bottom boundary (optional, defaults to 0)\n",
    "      left: list of k values for top boundary (optional, defaults to 0)\n",
    "      right: list of k values for top boundary (optional, defaults to 0)\n",
    "    Outputs:\n",
    "      b: the k**2 element vector (as a numpy array) for the rhs of the Poisson equation with given boundary conditions\n",
    "    \"\"\"\n",
    "    # Start with a vector of zeros\n",
    "    ndim = k*k\n",
    "    b = np.zeros(shape = ndim)\n",
    "    \n",
    "    # Fill in the four boundaries as appropriate\n",
    "    b[0        : k       ] += top\n",
    "    b[ndim - k : ndim    ] += bottom\n",
    "    b[0        : ndim : k] += left\n",
    "    b[k-1      : ndim : k] += right\n",
    "    \n",
    "    return b"
   ]
  },
  {
   "cell_type": "code",
   "execution_count": 5,
   "metadata": {},
   "outputs": [],
   "source": [
    "def radiator(k, width = .3, temperature = 100.):\n",
    "    \"\"\"Create one wall with a radiator\n",
    "    Parameters: \n",
    "      k: number of grid points in each dimension; length of the wall.\n",
    "      width: width of the radiator as a fraction of length of the wall (defaults to 0.2)\n",
    "      temperature: temperature of the radiator (defaults to 100)\n",
    "    Outputs:\n",
    "      wall: the k element vector (as a numpy array) for the boundary conditions at the wall\n",
    "    \"\"\"\n",
    "    rad_start = int(k * (0.5 - width/2))\n",
    "    rad_end = int(k * (0.5 + width/2))\n",
    "    wall = np.zeros(k)\n",
    "    wall[rad_start : rad_end] = temperature\n",
    "    \n",
    "    return wall"
   ]
  },
  {
   "cell_type": "code",
   "execution_count": 6,
   "metadata": {
    "scrolled": false
   },
   "outputs": [],
   "source": [
    "# Setting up the problem\n",
    "k = 1000\n",
    "rk = radiator(k, width=.5, temperature = 100)  # width is relative to the side\n",
    "A = make_A(k)               # A is the sparse nxn matrix (where n = k**2)\n",
    "b = make_b(k, right=rk, left=rk)    # SIDE=rk is placement of radiator\n",
    "#print(\"A:\",A)\n",
    "#print(\"\\nb:\",b)\n",
    "#print(\"\\nrad:\", rk)"
   ]
  },
  {
   "cell_type": "code",
   "execution_count": 7,
   "metadata": {},
   "outputs": [],
   "source": [
    "# This is how you go back to a dense matrix format:\n",
    "#AA = sparse.csr_matrix.todense(A)\n",
    "#print(AA)"
   ]
  },
  {
   "cell_type": "code",
   "execution_count": 8,
   "metadata": {},
   "outputs": [],
   "source": [
    "# NOW!!! WE SOLVE IT!!\n",
    "t = spla.spsolve(A,b)\n",
    "\n",
    "# Reshape it back to a model (square) of the room\n",
    "T = t.reshape(k,k)\n",
    "\n",
    "#print(t,\"\\n\")\n",
    "#print(T)"
   ]
  },
  {
   "cell_type": "code",
   "execution_count": 9,
   "metadata": {},
   "outputs": [],
   "source": [
    "# Simple demonstration of the plotting function in PyPlot\n",
    "#wave = np.sin( np.array(range(100)) / 100 * 2 * np.pi)\n",
    "#print(wave)\n",
    "#plt.plot(wave)"
   ]
  },
  {
   "cell_type": "code",
   "execution_count": 10,
   "metadata": {},
   "outputs": [
    {
     "data": {
      "text/plain": [
       "<matplotlib.image.AxesImage at 0x1430125cb70>"
      ]
     },
     "execution_count": 10,
     "metadata": {},
     "output_type": "execute_result"
    }
   ],
   "source": [
    "# Prep the plotter...\n",
    "# Plot just a 2D image\n",
    "%matplotlib tk\n",
    "plt.figure()\n",
    "plt.imshow(T, cmap=cm.hot)\n",
    "#plt.imshow(T)"
   ]
  },
  {
   "cell_type": "code",
   "execution_count": 11,
   "metadata": {},
   "outputs": [
    {
     "name": "stdout",
     "output_type": "stream",
     "text": [
      "[[  0   1   2 ... 997 998 999]\n",
      " [  0   1   2 ... 997 998 999]\n",
      " [  0   1   2 ... 997 998 999]\n",
      " ...\n",
      " [  0   1   2 ... 997 998 999]\n",
      " [  0   1   2 ... 997 998 999]\n",
      " [  0   1   2 ... 997 998 999]] \n",
      "\n",
      "[[  0   0   0 ...   0   0   0]\n",
      " [  1   1   1 ...   1   1   1]\n",
      " [  2   2   2 ...   2   2   2]\n",
      " ...\n",
      " [997 997 997 ... 997 997 997]\n",
      " [998 998 998 ... 998 998 998]\n",
      " [999 999 999 ... 999 999 999]]\n"
     ]
    }
   ],
   "source": [
    "# Prep the plotter again...\n",
    "X, Y = np.meshgrid(range(k), range(k))\n",
    "%matplotlib tk\n",
    "print(X,\"\\n\")\n",
    "print(Y)"
   ]
  },
  {
   "cell_type": "code",
   "execution_count": 12,
   "metadata": {},
   "outputs": [
    {
     "data": {
      "text/plain": [
       "<mpl_toolkits.mplot3d.art3d.Poly3DCollection at 0x14301277d68>"
      ]
     },
     "execution_count": 12,
     "metadata": {},
     "output_type": "execute_result"
    }
   ],
   "source": [
    "# Plot the 2D image as a 3D projection\n",
    "fig = plt.figure()\n",
    "ax = fig.gca(projection='3d')\n",
    "ax = fig.gca()\n",
    "ax.plot_surface(X, Y, T, cmap=cm.hot)"
   ]
  },
  {
   "cell_type": "code",
   "execution_count": null,
   "metadata": {},
   "outputs": [],
   "source": []
  },
  {
   "cell_type": "code",
   "execution_count": null,
   "metadata": {},
   "outputs": [],
   "source": []
  },
  {
   "cell_type": "code",
   "execution_count": null,
   "metadata": {},
   "outputs": [],
   "source": []
  },
  {
   "cell_type": "code",
   "execution_count": null,
   "metadata": {},
   "outputs": [],
   "source": []
  }
 ],
 "metadata": {
  "kernelspec": {
   "display_name": "Python 3",
   "language": "python",
   "name": "python3"
  },
  "language_info": {
   "codemirror_mode": {
    "name": "ipython",
    "version": 3
   },
   "file_extension": ".py",
   "mimetype": "text/x-python",
   "name": "python",
   "nbconvert_exporter": "python",
   "pygments_lexer": "ipython3",
   "version": "3.7.1"
  }
 },
 "nbformat": 4,
 "nbformat_minor": 2
}
