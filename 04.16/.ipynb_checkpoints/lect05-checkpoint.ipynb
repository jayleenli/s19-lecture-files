{
 "cells": [
  {
   "cell_type": "markdown",
   "metadata": {},
   "source": [
    "<em>We'll start off by importing numpy and the linear algebra class (linalg) from numpy</em>"
   ]
  },
  {
   "cell_type": "code",
   "execution_count": 1,
   "metadata": {},
   "outputs": [],
   "source": [
    "import numpy as np\n",
    "import numpy.linalg as npla"
   ]
  },
  {
   "cell_type": "markdown",
   "metadata": {},
   "source": [
    "***Cholesky Example***"
   ]
  },
  {
   "cell_type": "code",
   "execution_count": 5,
   "metadata": {},
   "outputs": [
    {
     "name": "stdout",
     "output_type": "stream",
     "text": [
      "C:\n",
      " [[1 2]\n",
      " [2 5]] \n",
      "\n",
      "C.T:\n",
      " [[1 2]\n",
      " [2 5]] \n",
      "\n",
      "L:\n",
      " [[1. 0.]\n",
      " [2. 1.]] \n",
      "\n",
      "L@LT:\n",
      " [[1. 2.]\n",
      " [2. 5.]]\n"
     ]
    },
    {
     "ename": "ValueError",
     "evalue": "shapes (3,) and (2,2) not aligned: 3 (dim 0) != 2 (dim 0)",
     "output_type": "error",
     "traceback": [
      "\u001b[1;31m---------------------------------------------------------------------------\u001b[0m",
      "\u001b[1;31mValueError\u001b[0m                                Traceback (most recent call last)",
      "\u001b[1;32m<ipython-input-5-29a733bd0275>\u001b[0m in \u001b[0;36m<module>\u001b[1;34m\u001b[0m\n\u001b[0;32m      6\u001b[0m \u001b[1;33m\u001b[0m\u001b[0m\n\u001b[0;32m      7\u001b[0m \u001b[0mx\u001b[0m \u001b[1;33m=\u001b[0m \u001b[0mnp\u001b[0m\u001b[1;33m.\u001b[0m\u001b[0marray\u001b[0m\u001b[1;33m(\u001b[0m\u001b[1;33m[\u001b[0m\u001b[1;33m-\u001b[0m\u001b[1;36m11\u001b[0m\u001b[1;33m,\u001b[0m\u001b[1;36m55\u001b[0m\u001b[1;33m,\u001b[0m\u001b[1;36m10\u001b[0m\u001b[1;33m]\u001b[0m\u001b[1;33m)\u001b[0m\u001b[1;33m\u001b[0m\u001b[1;33m\u001b[0m\u001b[0m\n\u001b[1;32m----> 8\u001b[1;33m \u001b[0mprint\u001b[0m\u001b[1;33m(\u001b[0m\u001b[1;34m\"\\nxT@C@x:\\n\"\u001b[0m\u001b[1;33m,\u001b[0m \u001b[0mx\u001b[0m\u001b[1;33m.\u001b[0m\u001b[0mT\u001b[0m\u001b[1;33m@\u001b[0m\u001b[0mC\u001b[0m\u001b[1;33m@\u001b[0m\u001b[0mx\u001b[0m\u001b[1;33m)\u001b[0m\u001b[1;33m\u001b[0m\u001b[1;33m\u001b[0m\u001b[0m\n\u001b[0m",
      "\u001b[1;31mValueError\u001b[0m: shapes (3,) and (2,2) not aligned: 3 (dim 0) != 2 (dim 0)"
     ]
    }
   ],
   "source": [
    "C = np.array([[5, 5, 5],[5,6,5],[5,5,8]])\n",
    "print(\"C:\\n\", C,\"\\n\\nC.T:\\n\",C.T,\"\\n\")\n",
    "L = npla.cholesky(C)\n",
    "print(\"L:\\n\",L,\"\\n\")\n",
    "print(\"L@LT:\\n\", L @ L.T)\n",
    "\n",
    "x = np.array([-11,55,10])\n",
    "print(\"\\nxT@C@x:\\n\", x.T@C@x)"
   ]
  },
  {
   "cell_type": "markdown",
   "metadata": {},
   "source": [
    "***Finding Eigenvalues***\n",
    "\n",
    "*Note: npla.eig(C)[0] gives you the eigenvalues, [1] gives you the eigenvectors*"
   ]
  },
  {
   "cell_type": "code",
   "execution_count": null,
   "metadata": {},
   "outputs": [],
   "source": [
    "lambdas = npla.eig(C)\n",
    "print(lambdas[0])"
   ]
  },
  {
   "cell_type": "code",
   "execution_count": null,
   "metadata": {},
   "outputs": [],
   "source": [
    "lambdas = npla.eig(np.array([[2,1],[1,2]]))\n",
    "print(lambdas[0])"
   ]
  },
  {
   "cell_type": "markdown",
   "metadata": {},
   "source": [
    "***QR Factorization Examples***"
   ]
  },
  {
   "cell_type": "code",
   "execution_count": null,
   "metadata": {},
   "outputs": [],
   "source": [
    "A = np.array([[1,2],[3,4]])\n",
    "Q, R = npla.qr(A)\n",
    "print(\"Q:\\n\", Q,\"\\nR:\\n\", R, \"\\nQ@R:\\n\", Q@R)"
   ]
  },
  {
   "cell_type": "code",
   "execution_count": null,
   "metadata": {},
   "outputs": [],
   "source": [
    "A = np.array([[1,2,4],[0,0,5],[0,3,6]])\n",
    "Q, R = npla.qr(A, mode='reduced')\n",
    "print(\"Q:\\n\", Q,\"\\nR:\\n\", R, \"\\nQ@R:\\n\", Q@R)"
   ]
  },
  {
   "cell_type": "markdown",
   "metadata": {},
   "source": [
    "***Examples of stability in matrices***"
   ]
  },
  {
   "cell_type": "code",
   "execution_count": null,
   "metadata": {},
   "outputs": [],
   "source": [
    "A = np.array([[1,1000],[0,1]])\n",
    "b1 = np.array([0,1])\n",
    "x1 = npla.solve(A,b1)\n",
    "\n",
    "x2 = np.array([-999.999, 1.001])\n",
    "\n",
    "print(\"x1:\", x1, \"\\nx2:\", x2)\n",
    "print(\"\\nA @ x1:\", A@x1)\n",
    "print(\"A @ x2:\", A@x2)\n",
    "print(\"\\nresidual norm:\", npla.norm(b1 - A@x2))\n",
    "print(\"\\ncondition number of A:\\n\",npla.cond(A))"
   ]
  },
  {
   "cell_type": "code",
   "execution_count": null,
   "metadata": {},
   "outputs": [],
   "source": [
    "A = np.array([[1,9],[9,1]])\n",
    "b1 = np.array([9,1])\n",
    "x1 = npla.solve(A,b1)\n",
    "\n",
    "x2 = np.array([0.001, 0.999])\n",
    "\n",
    "print(\"x1:\", x1, \"\\nx2:\", x2)\n",
    "print(\"\\nA @ x1:\", A@x1)\n",
    "print(\"A @ x2:\", A@x2)\n",
    "print(\"\\nresidual norm:\", npla.norm(b1 - A@x2))\n",
    "print(\"\\ncondition number of A:\\n\",npla.cond(A))"
   ]
  },
  {
   "cell_type": "code",
   "execution_count": null,
   "metadata": {},
   "outputs": [],
   "source": [
    "A = np.array([[1,1,0],[1,0,1],[0,1,1]])\n",
    "b1 = np.array([1,2,1])\n",
    "x1 = npla.solve(A,b1)\n",
    "\n",
    "x2 = np.array([1.1,0.1,1])\n",
    "\n",
    "print(\"x1:\", x1, \"\\nx2:\", x2)\n",
    "print(\"\\nA @ x1:\", A@x1)\n",
    "print(\"A @ x2:\", A@x2)\n",
    "print(\"\\nresidual norm:\", npla.norm(b1 - A@x2))\n",
    "print(\"\\ncondition number of A:\\n\",npla.cond(A))"
   ]
  }
 ],
 "metadata": {
  "kernelspec": {
   "display_name": "Python 3",
   "language": "python",
   "name": "python3"
  },
  "language_info": {
   "codemirror_mode": {
    "name": "ipython",
    "version": 3
   },
   "file_extension": ".py",
   "mimetype": "text/x-python",
   "name": "python",
   "nbconvert_exporter": "python",
   "pygments_lexer": "ipython3",
   "version": "3.7.1"
  }
 },
 "nbformat": 4,
 "nbformat_minor": 2
}
