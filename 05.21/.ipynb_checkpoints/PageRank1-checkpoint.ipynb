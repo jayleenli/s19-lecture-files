{
 "cells": [
  {
   "cell_type": "markdown",
   "metadata": {},
   "source": [
    "# Dense pagerank1() for CS 111 Homework 6"
   ]
  },
  {
   "cell_type": "code",
   "execution_count": 1,
   "metadata": {},
   "outputs": [],
   "source": [
    "# These are the standard imports for CS 111. \n",
    "# This list may change as the quarter goes on.\n",
    "\n",
    "import os\n",
    "import math\n",
    "import time\n",
    "import struct\n",
    "import json\n",
    "import pandas as pd\n",
    "import networkx as nx\n",
    "import numpy as np\n",
    "import numpy.linalg as npla\n",
    "import scipy\n",
    "import scipy.sparse.linalg as spla\n",
    "from scipy import sparse\n",
    "from scipy import linalg\n",
    "import matplotlib.pyplot as plt\n",
    "from matplotlib import cm\n",
    "from mpl_toolkits.mplot3d import axes3d\n",
    "%matplotlib tk\n"
   ]
  },
  {
   "cell_type": "code",
   "execution_count": 2,
   "metadata": {},
   "outputs": [],
   "source": [
    "def pagerank1(E, return_vector = False, max_iters = 1000, tolerance = 1e-6):\n",
    "    \"\"\"compute page rank from dense adjacency matrix\n",
    "\n",
    "    Inputs:\n",
    "      E: adjacency matrix with links going from cols to rows.\n",
    "         E is a matrix of 0s and 1s, where E[i,j] = 1 means \n",
    "         that web page (vertex) j has a link to web page i.\n",
    "      return_vector = False: If True, return the eigenvector as well as the ranking.\n",
    "      max_iters = 1000: Maximum number of power iterations to do.\n",
    "      tolerance = 1e-6: Stop when the eigenvector norm changes by less than this.\n",
    "      \n",
    "    Outputs:\n",
    "      ranking: Permutation giving the ranking, most important first\n",
    "      vector (only if return_vector is True): Dominant eigenvector of PageRank matrix\n",
    "\n",
    "    This computes page rank by the following steps:\n",
    "    1. Add links from any dangling vertices to all vertices.\n",
    "    2. Scale the columns to sum to 1.\n",
    "    3. Add a constant matrix to represent jumping at random 15% of the time.\n",
    "    4. Find the dominant eigenvector with the power method.\n",
    "    5. Sort the eigenvector to get the rankings.\n",
    "\n",
    "    The homework problem due February 22 asks you to rewrite this code so\n",
    "    it takes input E as a scipy csr_sparse matrix, and then never creates \n",
    "    a full matrix or any large matrix other than E.\n",
    "    \"\"\"\n",
    "    \n",
    "    if type(E) is not np.ndarray:\n",
    "        print('Warning, converting input from type', type(E), 'to dense array.')\n",
    "        E = E.toarray()\n",
    "                \n",
    "    nnz = np.count_nonzero(E) # This call for sparse E may be different\n",
    "    outdegree = np.sum(E, 0)  # This call for sparse E may be different\n",
    "    nrows, n = E.shape\n",
    "\n",
    "    assert nrows == n, 'E must be square'\n",
    "    assert np.max(E) == 1 and np.sum(E) == nnz, 'E must contain only zeros and ones'\n",
    "    \n",
    "    #  1. Add links from any dangling vertices to all other vertices.\n",
    "    #     E + F will be the matrix with the added links.\n",
    "\n",
    "    F = np.zeros((n,n))\n",
    "    for j in range(n):\n",
    "        if outdegree[j] == 0:\n",
    "            F[:,j] = np.ones(n)\n",
    "            F[j,j] = 0\n",
    "    \n",
    "    #  2. Scale the columns to sum to 1.\n",
    "\n",
    "    A = (E + F) / np.sum(E + F, 0)\n",
    "    \n",
    "    #  3. Add a constant matrix to represent jumping at random 15% of the time.\n",
    "\n",
    "    S = np.ones((n,n)) / n\n",
    "    m = 0.15\n",
    "    M = (1 - m) * A + m * S\n",
    "    \n",
    "    #  4. Find the dominant eigenvector.\n",
    "    #  Start with a vector all of whose entries are equal.\n",
    "\n",
    "    e = np.ones(n)\n",
    "    v = e / npla.norm(e)\n",
    "\n",
    "    for iteration in range(max_iters):\n",
    "        oldv = v\n",
    "        \n",
    "        v = M @ v\n",
    "        eigval = npla.norm(v)\n",
    "        v = v / eigval\n",
    "        \n",
    "        if npla.norm(v - oldv) < tolerance:\n",
    "            break\n",
    "    \n",
    "    if npla.norm(v - oldv) < tolerance:\n",
    "        print('Dominant eigenvalue is %f after %d iterations.\\n' % (eigval, iteration+1))\n",
    "    else:\n",
    "        print('Did not converge to tolerance %e after %d iterations.\\n' % (tolerance, max_iters))\n",
    "\n",
    "    # Check that the eigenvector elements are all the same sign, and make them positive\n",
    "    assert np.all(v > 0) or np.all(v < 0), 'Error: eigenvector is not all > 0 or < 0'\n",
    "    vector = np.abs(v)\n",
    "        \n",
    "    #  5. Sort the eigenvector and reverse the permutation to get the rankings.\n",
    "    ranking = np.argsort(vector)[::-1]\n",
    "\n",
    "    if return_vector:\n",
    "        return ranking, vector\n",
    "    else:\n",
    "        return ranking"
   ]
  },
  {
   "cell_type": "code",
   "execution_count": 5,
   "metadata": {},
   "outputs": [
    {
     "name": "stdout",
     "output_type": "stream",
     "text": [
      "Dominant eigenvalue is 1.000000 after 19 iterations.\n",
      "\n",
      "r = [0 2 3 1]\n",
      "v = [0.69648305 0.26828106 0.54477799 0.38230039]\n"
     ]
    }
   ],
   "source": [
    "E = np.load('PageRankEG1.npy')\n",
    "r, v = pagerank1(E, return_vector = True)\n",
    "print('r =', r)\n",
    "print('v =', v)"
   ]
  },
  {
   "cell_type": "code",
   "execution_count": 6,
   "metadata": {},
   "outputs": [
    {
     "name": "stdout",
     "output_type": "stream",
     "text": [
      "Dominant eigenvalue is 1.000000 after 56 iterations.\n",
      "\n",
      "r[:10] = [  0   9  41 129  17  14   8  16  45  12]\n",
      "\n",
      "rank 0 is page   0: http://www.harvard.edu\n",
      "rank 1 is page   9: http://www.hbs.edu\n",
      "rank 2 is page  41: http://search.harvard.edu:8765/custom/query.html\n",
      "rank 3 is page 129: http://www.med.harvard.edu\n",
      "rank 4 is page  17: http://www.gse.harvard.edu\n",
      "rank 5 is page  14: http://www.hms.harvard.edu\n",
      "rank 6 is page   8: http://www.ksg.harvard.edu\n",
      "rank 7 is page  16: http://www.hsph.harvard.edu\n",
      "rank 8 is page  45: http://www.gocrimson.com\n",
      "rank 9 is page  12: http://www.hsdm.med.harvard.edu\n"
     ]
    }
   ],
   "source": [
    "E = np.load('PageRankEG3.npy')\n",
    "sitename = open('PageRankEG3.nodelabels').read().splitlines()\n",
    "r = pagerank1(E)\n",
    "print('r[:10] =', r[:10])\n",
    "print()\n",
    "for i in range(10):\n",
    "    print('rank %d is page %3d: %s' % (i, r[i], sitename[r[i]]))"
   ]
  }
 ],
 "metadata": {
  "kernelspec": {
   "display_name": "Python 3",
   "language": "python",
   "name": "python3"
  },
  "language_info": {
   "codemirror_mode": {
    "name": "ipython",
    "version": 3
   },
   "file_extension": ".py",
   "mimetype": "text/x-python",
   "name": "python",
   "nbconvert_exporter": "python",
   "pygments_lexer": "ipython3",
   "version": "3.7.1"
  }
 },
 "nbformat": 4,
 "nbformat_minor": 2
}
