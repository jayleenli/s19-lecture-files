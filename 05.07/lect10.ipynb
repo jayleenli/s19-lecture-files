{
 "cells": [
  {
   "cell_type": "markdown",
   "metadata": {},
   "source": [
    "# Imports and defs for lecture"
   ]
  },
  {
   "cell_type": "code",
   "execution_count": null,
   "metadata": {},
   "outputs": [],
   "source": [
    "import math\n",
    "import numpy as np\n",
    "import numpy.linalg as npla\n",
    "\n",
    "# New one!\n",
    "import struct"
   ]
  },
  {
   "cell_type": "code",
   "execution_count": null,
   "metadata": {},
   "outputs": [],
   "source": [
    "bits = {'0':'0000', '1':'0001', '2':'0010', '3':'0011', \n",
    "        '4':'0100', '5':'0101', '6':'0110', '7':'0111', \n",
    "        '8':'1000', '9':'1001', 'a':'1010', 'b':'1011', \n",
    "        'c':'1100', 'd':'1101', 'e':'1110', 'f':'1111'}\n",
    "\n",
    "drop = {'0':'0', '1':'1', '2':'2', '3':'3', '4':'4', '5':'5', '6':'6', '7':'7', \n",
    "        '8':'0', '9':'1', 'a':'2', 'b':'3', 'c':'4', 'd':'5', 'e':'6', 'f':'7'}\n",
    "\n",
    "def double_to_hex(f):\n",
    "    s = hex(struct.unpack('<Q', struct.pack('<d', f))[0])\n",
    "    s = s[2:]           # remove the 0x prefix\n",
    "    while len(s) < 16:  # pad with zeros\n",
    "        s = '0' + s\n",
    "    return s\n",
    "\n",
    "def fprint(x):\n",
    "    \"\"\"Print a 64-bit floating-point number in various formats.\n",
    "    \"\"\"\n",
    "    print('input     :', x)\n",
    "    # Cast the input to a 64-bit float\n",
    "    x = np.float64(x)\n",
    "    xhex = double_to_hex(x)\n",
    "    print('as float64: {:.16e}'.format(x))\n",
    "    print('as hex    : ' + xhex)\n",
    "    if bits[xhex[0]][0] == '0':\n",
    "        sign = '0 means +'\n",
    "    else:\n",
    "        sign = '1 means -'\n",
    "    print('sign      :', sign)\n",
    "    expostr = drop[xhex[0]] + xhex[1:3]\n",
    "    expo = int(expostr, 16)\n",
    "    if expo == 0:\n",
    "        print('exponent  :', expostr, 'means zero or denormal')\n",
    "    elif expo == 2047:\n",
    "        print('exponent  :', expostr, 'means inf or nan')\n",
    "    else:\n",
    "        print('exponent  :', expostr, 'means', expo, '- 1023 =', expo - 1023)\n",
    "        mantissa = '1.'\n",
    "        for i in range(3,16):\n",
    "            mantissa = mantissa + bits[xhex[i]]\n",
    "        print('mantissa  :', mantissa)\n",
    "    print()"
   ]
  },
  {
   "cell_type": "markdown",
   "metadata": {},
   "source": [
    "# Lecture starts here"
   ]
  },
  {
   "cell_type": "code",
   "execution_count": null,
   "metadata": {},
   "outputs": [],
   "source": [
    "x = 1.0\n",
    "for i in range(60):\n",
    "    print(x)\n",
    "    print(1+x)\n",
    "    print()\n",
    "    if 1.0 == (1.0+x): break\n",
    "    x = x/2."
   ]
  },
  {
   "cell_type": "code",
   "execution_count": null,
   "metadata": {},
   "outputs": [],
   "source": [
    "fprint(1.0)"
   ]
  },
  {
   "cell_type": "code",
   "execution_count": null,
   "metadata": {},
   "outputs": [],
   "source": [
    "fprint(2.)"
   ]
  },
  {
   "cell_type": "code",
   "execution_count": null,
   "metadata": {},
   "outputs": [],
   "source": [
    "fprint(29.125)\n",
    "# Compare against the 32b example done in lecture"
   ]
  },
  {
   "cell_type": "code",
   "execution_count": null,
   "metadata": {},
   "outputs": [],
   "source": [
    "fprint(0)"
   ]
  },
  {
   "cell_type": "code",
   "execution_count": null,
   "metadata": {},
   "outputs": [],
   "source": [
    "fprint(np.inf)"
   ]
  },
  {
   "cell_type": "code",
   "execution_count": null,
   "metadata": {},
   "outputs": [],
   "source": [
    "fprint(-np.inf)"
   ]
  },
  {
   "cell_type": "code",
   "execution_count": null,
   "metadata": {},
   "outputs": [],
   "source": [
    "fprint(np.nan)"
   ]
  },
  {
   "cell_type": "code",
   "execution_count": null,
   "metadata": {},
   "outputs": [],
   "source": [
    "a = 1/10\n",
    "fprint(a)\n",
    "fprint(a+a+a+a+a+a+a+a+a+a)"
   ]
  },
  {
   "cell_type": "code",
   "execution_count": null,
   "metadata": {},
   "outputs": [],
   "source": [
    "print(np.finfo(np.float64))"
   ]
  },
  {
   "cell_type": "code",
   "execution_count": null,
   "metadata": {},
   "outputs": [],
   "source": [
    "x = 1.0\n",
    "for i in range(60):\n",
    "    print('x:')\n",
    "    fprint(x)\n",
    "    print('1 + x:')\n",
    "    fprint(1+x)\n",
    "    if 1.0 == (1.0+x): break\n",
    "    x = x/2."
   ]
  }
 ],
 "metadata": {
  "kernelspec": {
   "display_name": "Python 3",
   "language": "python",
   "name": "python3"
  },
  "language_info": {
   "codemirror_mode": {
    "name": "ipython",
    "version": 3
   },
   "file_extension": ".py",
   "mimetype": "text/x-python",
   "name": "python",
   "nbconvert_exporter": "python",
   "pygments_lexer": "ipython3",
   "version": "3.7.2"
  }
 },
 "nbformat": 4,
 "nbformat_minor": 2
}
