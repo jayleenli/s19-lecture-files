{
 "cells": [
  {
   "cell_type": "markdown",
   "metadata": {},
   "source": [
    "*We'll start off by importing everything we need*"
   ]
  },
  {
   "cell_type": "code",
   "execution_count": null,
   "metadata": {},
   "outputs": [],
   "source": [
    "import os\n",
    "import math\n",
    "import numpy as np\n",
    "import numpy.linalg as npla\n",
    "import scipy\n",
    "import scipy.sparse.linalg as spla\n",
    "from scipy import sparse\n",
    "from scipy import linalg\n",
    "import matplotlib.pyplot as plt\n",
    "from matplotlib import cm\n",
    "from mpl_toolkits.mplot3d import axes3d\n",
    "# %matplotlib tk"
   ]
  },
  {
   "cell_type": "code",
   "execution_count": null,
   "metadata": {},
   "outputs": [],
   "source": [
    "def Jsolve(A, b, tol = 1e-8, max_iters = 1000, callback = None):\n",
    "    \"\"\"Solve a linear system Ax = b for x by the Jacobi iterative method.\n",
    "    Parameters: \n",
    "      A: the matrix.\n",
    "      b: the right-hand side vector.\n",
    "      tol = 1e-8: the relative residual at which to stop iterating.\n",
    "      max_iters = 1000: the maximum number of iterations to do. \n",
    "      callback = None: a user function to call at every iteration. \n",
    "        The callback function has arguments 'x', 'iteration', and 'residual'\n",
    "    Outputs (in order):\n",
    "      x: the computed solution\n",
    "      rel_res: list of relative residual norms at each iteration.\n",
    "        The number of iterations actually done is len(rel_res) - 1\n",
    "    \"\"\"\n",
    "    # Check the input\n",
    "    m, n = A.shape\n",
    "    assert m == n, \"matrix must be square\"\n",
    "    bn, = b.shape\n",
    "    assert bn == n, \"rhs vector must be same size as matrix\"\n",
    "\n",
    "    # Split A into diagonal D plus off-diagonal C\n",
    "    d = A.diagonal()         # diagonal elements of A as a vector\n",
    "    C = A.copy()             # copy of A ...\n",
    "    C.setdiag(np.zeros(n))   # ... without the diagonal\n",
    "    \n",
    "    # Initial guess: x = 0\n",
    "    x = np.zeros(n)\n",
    "\n",
    "    # Vector of relative residuals\n",
    "    # Relative residual is norm(residual)/norm(b)\n",
    "    # Intitial residual is b - Ax for x=0, or b\n",
    "    rel_res = [1.0]\n",
    "        \n",
    "    # Call user function if specified\n",
    "    if callback is not None:\n",
    "        callback(x = x, iteration = 0, residual = 1)\n",
    "\n",
    "    # Iterate\n",
    "    for k in range(1, max_iters+1):\n",
    "        # New x\n",
    "        x = (b - C @ x) / d\n",
    "\n",
    "        # Record relative residual\n",
    "        this_rel_res = npla.norm(b - A @ x) / npla.norm(b)\n",
    "        rel_res.append(this_rel_res)\n",
    "                \n",
    "        # Call user function if specified\n",
    "        if callback is not None:\n",
    "            callback(x = x, iteration = k, residual = this_rel_res)\n",
    "                        \n",
    "        # Stop if within tolerance    \n",
    "        if this_rel_res <= tol:\n",
    "            break\n",
    "            \n",
    "    return (x, rel_res)"
   ]
  },
  {
   "cell_type": "code",
   "execution_count": null,
   "metadata": {},
   "outputs": [],
   "source": [
    "def CGsolve(A, b, tol = 1e-8, max_iters = 1000, callback = None):\n",
    "    \"\"\"Solve a linear system Ax = b for x by the conjugate gradient iterative method.\n",
    "    Parameters: \n",
    "      A: the matrix.\n",
    "      b: the right-hand side vector.\n",
    "      tol = 1e-8: the relative residual at which to stop iterating.\n",
    "      max_iters = 1000: the maximum number of iterations to do. \n",
    "      callback = None: a user function to call at every iteration, with one argument x\n",
    "    Outputs (in order):\n",
    "      x: the computed solution\n",
    "      rel_res: list of relative residual norms at each iteration.\n",
    "        The number of iterations actually done is len(rel_res) - 1\n",
    "    \"\"\"\n",
    "    # Check the input\n",
    "    m, n = A.shape\n",
    "    assert m == n, \"matrix must be square\"\n",
    "    bn, = b.shape\n",
    "    assert bn == n, \"rhs vector must be same size as matrix\"\n",
    "\n",
    "    # Initial guess: x = 0\n",
    "    x = np.zeros(n)\n",
    "    \n",
    "    # Initial residual: r = b - A@0 = b\n",
    "    r = b\n",
    " \n",
    "    # Initial step is in direction of residual.\n",
    "    d = r\n",
    "\n",
    "    # Squared norm of residual\n",
    "    rtr = r.T @ r\n",
    "    \n",
    "    # Vector of relative residuals\n",
    "    # Relative residual is norm(residual)/norm(b)\n",
    "    # Intitial residual is b - Ax for x=0, or b\n",
    "    rel_res = [1.0]\n",
    "     \n",
    "    # Call user function if specified\n",
    "    if callback is not None:\n",
    "        callback(x = x, iteration = 0, residual = 1)\n",
    "\n",
    "    # Iterate\n",
    "    for k in range(1, max_iters+1):\n",
    "        Ad = A @ d\n",
    "        alpha = rtr / (d.T @ Ad)  # Length of step\n",
    "        x = x + alpha * d         # Update x to new x\n",
    "        r = r - alpha * Ad        # Update r to new residual\n",
    "        rtrold = rtr \n",
    "        rtr = r.T @ r\n",
    "        beta = rtr / rtrold    \n",
    "        d = r + beta * d          # Update d to new step direction\n",
    "                   \n",
    "        # Record relative residual\n",
    "        this_rel_res = npla.norm(b - A @ x) / npla.norm(b)\n",
    "        rel_res.append(this_rel_res)\n",
    "                \n",
    "        # Call user function if specified\n",
    "        if callback is not None:\n",
    "            callback(x = x, iteration = k, residual = this_rel_res)\n",
    "                        \n",
    "        # Stop if within tolerance    \n",
    "        if this_rel_res <= tol:\n",
    "            break\n",
    "            \n",
    "    return (x, rel_res)"
   ]
  },
  {
   "cell_type": "markdown",
   "metadata": {},
   "source": [
    "# Re: Jacobi's Method"
   ]
  },
  {
   "cell_type": "code",
   "execution_count": null,
   "metadata": {},
   "outputs": [],
   "source": [
    "A = np.array([[4, -1, -1], [-2, 6, 1], [-1, 1, 7]])\n",
    "b = np.array([3, 9, -6])\n",
    "print(\"A:\\n\", A)\n",
    "print(\"\\nb:\\n\", b)\n",
    "x = npla.solve(A, b)\n",
    "print(\"\\nx:\\n\", x)"
   ]
  },
  {
   "cell_type": "code",
   "execution_count": null,
   "metadata": {},
   "outputs": [],
   "source": [
    "#Run it using Jacobi\n",
    "# IMPORTANT NOTE: Jsolve() requires A to be a sparse matrix\n",
    "A = sparse.csr_matrix(A)\n",
    "\n",
    "print(\"x and iterated residuals: \\n\", Jsolve(A, b))\n",
    "\n",
    "# To see the last residual:\n",
    "print(\"\\nLast residual: \", Jsolve(A,b)[1][-1])"
   ]
  },
  {
   "cell_type": "markdown",
   "metadata": {},
   "source": [
    "# Jacobi does not always converge"
   ]
  },
  {
   "cell_type": "code",
   "execution_count": null,
   "metadata": {},
   "outputs": [],
   "source": [
    "A = np.array([[1,2],[3,4]])\n",
    "b = np.array([3,7])\n",
    "print(\"A:\\n\", A)\n",
    "print(\"\\nb:\\n\", b)\n",
    "x = npla.solve(A, b)\n",
    "print(\"\\nx:\\n\", x)"
   ]
  },
  {
   "cell_type": "code",
   "execution_count": null,
   "metadata": {},
   "outputs": [],
   "source": [
    "d = A.diagonal()\n",
    "D = np.diag(d)\n",
    "C = A - D\n",
    "x = np.zeros(2)\n",
    "# Check spectral radius\n",
    "m = npla.pinv(D)@C\n",
    "evs = npla.eig(m)[0]\n",
    "if max(evs) < 1:\n",
    "    print(\"Spectral radius < 1. Will converge.\")\n",
    "else:\n",
    "    print(\"Spectral radius >= 1. Will not converge.\")"
   ]
  },
  {
   "cell_type": "code",
   "execution_count": null,
   "metadata": {},
   "outputs": [],
   "source": [
    "#Run it using Jacobi - note, Jsolve() requires A to be a sparse matrix\n",
    "A = sparse.csr_matrix(A)\n",
    "\n",
    "print(\"x and iterated residuals: \\n\", Jsolve(A, b))\n",
    "\n",
    "# To see the last residual:\n",
    "print(\"\\nLast residual: \", Jsolve(A,b)[1][-1])"
   ]
  },
  {
   "cell_type": "markdown",
   "metadata": {},
   "source": [
    "# CG Method"
   ]
  },
  {
   "cell_type": "code",
   "execution_count": null,
   "metadata": {},
   "outputs": [],
   "source": [
    "A = np.array([[4, -1, -1], [-2, 6, 1], [-1, 1, 7]])\n",
    "b = np.array([3, 9, -6])\n",
    "print(\"A:\\n\", A)\n",
    "print(\"\\nb:\\n\", b)\n",
    "x = npla.solve(A, b)\n",
    "print(\"\\nx:\\n\", x)"
   ]
  },
  {
   "cell_type": "code",
   "execution_count": null,
   "metadata": {},
   "outputs": [],
   "source": [
    "CGsolve(A, b)"
   ]
  },
  {
   "cell_type": "code",
   "execution_count": null,
   "metadata": {},
   "outputs": [],
   "source": [
    "A = np.array([[1,2],[3,4]])\n",
    "b = np.array([3,7])\n",
    "x = npla.solve(A, b)\n",
    "print(\"\\nx:\\n\", x)\n",
    "CGsolve(A, b)"
   ]
  },
  {
   "cell_type": "markdown",
   "metadata": {},
   "source": [
    "## Let's put in an SPD matrix for A"
   ]
  },
  {
   "cell_type": "code",
   "execution_count": null,
   "metadata": {},
   "outputs": [],
   "source": [
    "# Using a SPD Matrix for A\n",
    "A = np.array([[2,1],[1,1]])\n",
    "b = np.array([1,1])\n",
    "x = npla.solve(A, b)\n",
    "print(\"\\nx:\\n\", x)\n",
    "CGsolve(A, b)"
   ]
  },
  {
   "cell_type": "code",
   "execution_count": null,
   "metadata": {},
   "outputs": [],
   "source": [
    "# Using another SPD Matrix for A\n",
    "A = np.array([[4, 1, -1], [1, 2, 1], [-1, 1, 2]])\n",
    "b = 10*np.random.rand(3)\n",
    "x = npla.solve(A, b)\n",
    "print(\"\\nx:\\n\", x)\n",
    "CGsolve(A, b)"
   ]
  },
  {
   "cell_type": "markdown",
   "metadata": {},
   "source": [
    "## Let's do the temperature problem with Jacobi and CG!"
   ]
  },
  {
   "cell_type": "code",
   "execution_count": null,
   "metadata": {},
   "outputs": [],
   "source": [
    "def make_A(k):\n",
    "    \"\"\"Create the matrix for the temperature problem on a k-by-k grid.\n",
    "    Parameters: \n",
    "      k: number of grid points in each dimension.\n",
    "    Outputs:\n",
    "      A: the sparse k**2-by-k**2 matrix representing the finite difference approximation to Poisson's equation.\n",
    "    \"\"\"\n",
    "    # First make a list with one triple (row, column, value) for each nonzero element of A\n",
    "    triples = []\n",
    "    for i in range(k):\n",
    "        for j in range(k):\n",
    "            # what row of the matrix is grid point (i,j)?\n",
    "            row = j + i*k\n",
    "            # the diagonal element in this row\n",
    "            triples.append((row, row, 4.0))\n",
    "            # connect to left grid neighbor\n",
    "            if j > 0:\n",
    "                triples.append((row, row - 1, -1.0))\n",
    "            # ... right neighbor\n",
    "            if j < k - 1:\n",
    "                triples.append((row, row + 1, -1.0))\n",
    "            # ... neighbor above\n",
    "            if i > 0:\n",
    "                triples.append((row, row - k, -1.0))\n",
    "            # ... neighbor below\n",
    "            if i < k - 1:\n",
    "                triples.append((row, row + k, -1.0))\n",
    "    \n",
    "    # Finally convert the list of triples to a scipy sparse matrix\n",
    "    ndim = k*k\n",
    "    rownum = [t[0] for t in triples]\n",
    "    colnum = [t[1] for t in triples]\n",
    "    values = [t[2] for t in triples]\n",
    "    A = sparse.csr_matrix((values, (rownum, colnum)), shape = (ndim, ndim))\n",
    "    \n",
    "    return A "
   ]
  },
  {
   "cell_type": "code",
   "execution_count": null,
   "metadata": {},
   "outputs": [],
   "source": [
    "def make_b(k, top = 0, bottom = 0, left = 0, right = 0):\n",
    "    \"\"\"Create the right-hand side for the temperature problem on a k-by-k grid.\n",
    "    Parameters: \n",
    "      k: number of grid points in each dimension.\n",
    "      top: list of k values for top boundary (optional, defaults to 0)\n",
    "      bottom: list of k values for bottom boundary (optional, defaults to 0)\n",
    "      left: list of k values for top boundary (optional, defaults to 0)\n",
    "      right: list of k values for top boundary (optional, defaults to 0)\n",
    "    Outputs:\n",
    "      b: the k**2 element vector (as a numpy array) for the rhs of the Poisson equation with given boundary conditions\n",
    "    \"\"\"\n",
    "    # Start with a vector of zeros\n",
    "    ndim = k*k\n",
    "    b = np.zeros(shape = ndim)\n",
    "    \n",
    "    # Fill in the four boundaries as appropriate\n",
    "    b[0        : k       ] += top\n",
    "    b[ndim - k : ndim    ] += bottom\n",
    "    b[0        : ndim : k] += left\n",
    "    b[k-1      : ndim : k] += right\n",
    "    \n",
    "    return b"
   ]
  },
  {
   "cell_type": "code",
   "execution_count": null,
   "metadata": {},
   "outputs": [],
   "source": [
    "def radiator(k, width = .3, temperature = 100.):\n",
    "    \"\"\"Create one wall with a radiator\n",
    "    Parameters: \n",
    "      k: number of grid points in each dimension; length of the wall.\n",
    "      width: width of the radiator as a fraction of length of the wall (defaults to 0.2)\n",
    "      temperature: temperature of the radiator (defaults to 100)\n",
    "    Outputs:\n",
    "      wall: the k element vector (as a numpy array) for the boundary conditions at the wall\n",
    "    \"\"\"\n",
    "    rad_start = int(k * (0.5 - width/2))\n",
    "    rad_end = int(k * (0.5 + width/2))\n",
    "    wall = np.zeros(k)\n",
    "    wall[rad_start : rad_end] = temperature\n",
    "    \n",
    "    return wall"
   ]
  },
  {
   "cell_type": "code",
   "execution_count": null,
   "metadata": {},
   "outputs": [],
   "source": [
    "k = 100\n",
    "rad_wall = radiator(k)\n",
    "A = make_A(k)\n",
    "b = make_b(k, right = rad_wall)\n",
    "\n",
    "t = spla.spsolve(A,b)\n",
    "print(\"t:\", t)\n",
    "print(\"size:\", t.size)"
   ]
  },
  {
   "cell_type": "code",
   "execution_count": null,
   "metadata": {},
   "outputs": [],
   "source": [
    "#Set it up for plotting and then plot 3D projection\n",
    "T = t.reshape(k,k)\n",
    "X, Y = np.meshgrid(range(k), range(k))\n",
    "%matplotlib tk\n",
    "fig = plt.figure()\n",
    "ax = fig.gca(projection='3d')\n",
    "ax = fig.gca()\n",
    "ax.plot_surface(X, Y, T, cmap=cm.hot)"
   ]
  },
  {
   "cell_type": "markdown",
   "metadata": {},
   "source": [
    "### First with Jacobi"
   ]
  },
  {
   "cell_type": "code",
   "execution_count": null,
   "metadata": {},
   "outputs": [],
   "source": [
    "# Try this for value of max_iters from 10 to 10000, and visualize them with the cell above\n",
    "\n",
    "t, resvec = Jsolve(A, b, max_iters = 10000)\n",
    "\n",
    "# Re-plot\n",
    "T = t.reshape(k,k)\n",
    "X, Y = np.meshgrid(range(k), range(k))\n",
    "%matplotlib tk\n",
    "fig = plt.figure()\n",
    "ax = fig.gca(projection='3d')\n",
    "ax = fig.gca()\n",
    "ax.plot_surface(X, Y, T, cmap=cm.hot)"
   ]
  },
  {
   "cell_type": "markdown",
   "metadata": {},
   "source": [
    "### Next with CG"
   ]
  },
  {
   "cell_type": "code",
   "execution_count": null,
   "metadata": {},
   "outputs": [],
   "source": [
    "# Try this for value of max_iters from 10 to 10000, and visualize them with the cell above\n",
    "\n",
    "t, resvec = CGsolve(A, b, max_iters = 10000)\n",
    "\n",
    "# Re-plot\n",
    "T = t.reshape(k,k)\n",
    "X, Y = np.meshgrid(range(k), range(k))\n",
    "%matplotlib tk\n",
    "fig = plt.figure()\n",
    "ax = fig.gca(projection='3d')\n",
    "ax = fig.gca()\n",
    "ax.plot_surface(X, Y, T, cmap=cm.hot)"
   ]
  },
  {
   "cell_type": "markdown",
   "metadata": {},
   "source": [
    "### Comparing Jacobi vs CG"
   ]
  },
  {
   "cell_type": "code",
   "execution_count": null,
   "metadata": {},
   "outputs": [],
   "source": [
    "# Plot relative residual (y axis) versus iteration number (x axis) for both Jacobi and CG\n",
    "\n",
    "%matplotlib inline\n",
    "plt.figure()\n",
    "\n",
    "(xJ,resvecJ) = Jsolve(A, b, tol = 1e-6, max_iters = 1000)\n",
    "print('\\nJacobi iters:', len(resvecJ)-1)\n",
    "print('last rel res:', resvecJ[-1])\n",
    "print('computed rel res:', npla.norm(A@xJ - b) / npla.norm(b))\n",
    "plt.semilogy(resvecJ, label = 'Jacobi')\n",
    "\n",
    "(xCG,resvecCG) = CGsolve(A, b, tol = 1e-6, max_iters = 1000)\n",
    "print('\\nCG iters:', len(resvecCG)-1)\n",
    "print('last rel res:', resvecCG[-1])\n",
    "print('computed rel res:', npla.norm(A@xCG - b) / npla.norm(b))\n",
    "plt.semilogy(resvecCG, label = 'CG')\n",
    "\n",
    "plt.legend()\n",
    "plt.xlabel('iterations')\n",
    "plt.ylabel('relative residual')\n",
    "plt.title('Iterative methods for temperature problem with n = %d' % A.shape[0])"
   ]
  }
 ],
 "metadata": {
  "kernelspec": {
   "display_name": "Python 3",
   "language": "python",
   "name": "python3"
  },
  "language_info": {
   "codemirror_mode": {
    "name": "ipython",
    "version": 3
   },
   "file_extension": ".py",
   "mimetype": "text/x-python",
   "name": "python",
   "nbconvert_exporter": "python",
   "pygments_lexer": "ipython3",
   "version": "3.7.2"
  }
 },
 "nbformat": 4,
 "nbformat_minor": 2
}
